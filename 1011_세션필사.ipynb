{
  "nbformat": 4,
  "nbformat_minor": 0,
  "metadata": {
    "colab": {
      "name": "1011_세션필사.ipynb의 사본",
      "provenance": [],
      "collapsed_sections": [],
      "mount_file_id": "1jqAsHLrzunOpE1srf3f8UceKosbQX-rB",
      "authorship_tag": "ABX9TyOKLWJ0nbGIUNfBWY5pnPPa",
      "include_colab_link": true
    },
    "kernelspec": {
      "name": "python3",
      "display_name": "Python 3"
    },
    "language_info": {
      "name": "python"
    }
  },
  "cells": [
    {
      "cell_type": "markdown",
      "metadata": {
        "id": "view-in-github",
        "colab_type": "text"
      },
      "source": [
        "<a href=\"https://colab.research.google.com/github/vldzmtnsdl/ESAA-/blob/ESAA/1011_%EC%84%B8%EC%85%98%ED%95%84%EC%82%AC.ipynb\" target=\"_parent\"><img src=\"https://colab.research.google.com/assets/colab-badge.svg\" alt=\"Open In Colab\"/></a>"
      ]
    },
    {
      "cell_type": "markdown",
      "metadata": {
        "id": "pMkbT0Mfxhxn"
      },
      "source": [
        "amazon reviews를 이용한 추천시스템 실습"
      ]
    },
    {
      "cell_type": "code",
      "metadata": {
        "colab": {
          "base_uri": "https://localhost:8080/"
        },
        "id": "aakDRtwfyj35",
        "outputId": "3fa2c509-00c2-4350-c245-015cd8c7df92"
      },
      "source": [
        "pip install IPython\n"
      ],
      "execution_count": 4,
      "outputs": [
        {
          "output_type": "stream",
          "name": "stdout",
          "text": [
            "Requirement already satisfied: IPython in /usr/local/lib/python3.7/dist-packages (5.5.0)\n",
            "Requirement already satisfied: setuptools>=18.5 in /usr/local/lib/python3.7/dist-packages (from IPython) (57.4.0)\n",
            "Requirement already satisfied: prompt-toolkit<2.0.0,>=1.0.4 in /usr/local/lib/python3.7/dist-packages (from IPython) (1.0.18)\n",
            "Requirement already satisfied: pickleshare in /usr/local/lib/python3.7/dist-packages (from IPython) (0.7.5)\n",
            "Requirement already satisfied: simplegeneric>0.8 in /usr/local/lib/python3.7/dist-packages (from IPython) (0.8.1)\n",
            "Requirement already satisfied: traitlets>=4.2 in /usr/local/lib/python3.7/dist-packages (from IPython) (5.1.0)\n",
            "Requirement already satisfied: decorator in /usr/local/lib/python3.7/dist-packages (from IPython) (4.4.2)\n",
            "Requirement already satisfied: pygments in /usr/local/lib/python3.7/dist-packages (from IPython) (2.6.1)\n",
            "Requirement already satisfied: pexpect in /usr/local/lib/python3.7/dist-packages (from IPython) (4.8.0)\n",
            "Requirement already satisfied: six>=1.9.0 in /usr/local/lib/python3.7/dist-packages (from prompt-toolkit<2.0.0,>=1.0.4->IPython) (1.15.0)\n",
            "Requirement already satisfied: wcwidth in /usr/local/lib/python3.7/dist-packages (from prompt-toolkit<2.0.0,>=1.0.4->IPython) (0.2.5)\n",
            "Requirement already satisfied: ptyprocess>=0.5 in /usr/local/lib/python3.7/dist-packages (from pexpect->IPython) (0.7.0)\n"
          ]
        }
      ]
    },
    {
      "cell_type": "code",
      "metadata": {
        "id": "7YkgH1EQysVU"
      },
      "source": [
        "import IPython\n",
        "from IPython import *"
      ],
      "execution_count": 5,
      "outputs": []
    },
    {
      "cell_type": "code",
      "metadata": {
        "id": "Mbxz5tUJxUkr"
      },
      "source": [
        "import numpy as np\n",
        "import pandas as pd\n",
        "import os\n",
        "from IPython.core.interactiveshell import InteractiveShell\n",
        "InteractiveShell.ast_node_interactivity='all'\n",
        "import math\n",
        "import json\n",
        "import time\n",
        "import matplotlib.pyplot as plt\n",
        "import seaborn as sns\n",
        "from sklearn.metrics.pairwise import cosine_similarity\n",
        "from sklearn.model_selection import train_test_split\n",
        "from sklearn.neighbors import NearestNeighbors\n",
        "import scipy.sparse\n",
        "from scipy.sparse import csr_matrix\n",
        "from scipy.sparse.linalg import svds\n",
        "import warnings; warnings.simplefilter('ignore')\n",
        "%matplotlib inline\n",
        "\n",
        "for dirname, _, filenames in os.walk('/kaggle/input'):\n",
        "    for filename in filenames:\n",
        "        print(os.path.join(dirname, filename))\n"
      ],
      "execution_count": 6,
      "outputs": []
    },
    {
      "cell_type": "code",
      "metadata": {
        "id": "a_KrYlyFygw8"
      },
      "source": [
        "electronics_data = pd.read_csv(\"/content/drive/MyDrive/ratings_Electronics (1).csv\",names=['userId', 'productId','Rating','timestamp'])"
      ],
      "execution_count": 8,
      "outputs": []
    },
    {
      "cell_type": "code",
      "metadata": {
        "colab": {
          "base_uri": "https://localhost:8080/",
          "height": 204
        },
        "id": "HhdwyoE6zCKM",
        "outputId": "034936e7-1f8b-4862-fe52-48239c507de7"
      },
      "source": [
        "electronics_data.head()"
      ],
      "execution_count": 9,
      "outputs": [
        {
          "output_type": "execute_result",
          "data": {
            "text/html": [
              "<div>\n",
              "<style scoped>\n",
              "    .dataframe tbody tr th:only-of-type {\n",
              "        vertical-align: middle;\n",
              "    }\n",
              "\n",
              "    .dataframe tbody tr th {\n",
              "        vertical-align: top;\n",
              "    }\n",
              "\n",
              "    .dataframe thead th {\n",
              "        text-align: right;\n",
              "    }\n",
              "</style>\n",
              "<table border=\"1\" class=\"dataframe\">\n",
              "  <thead>\n",
              "    <tr style=\"text-align: right;\">\n",
              "      <th></th>\n",
              "      <th>userId</th>\n",
              "      <th>productId</th>\n",
              "      <th>Rating</th>\n",
              "      <th>timestamp</th>\n",
              "    </tr>\n",
              "  </thead>\n",
              "  <tbody>\n",
              "    <tr>\n",
              "      <th>0</th>\n",
              "      <td>AKM1MP6P0OYPR</td>\n",
              "      <td>0132793040</td>\n",
              "      <td>5.0</td>\n",
              "      <td>1365811200</td>\n",
              "    </tr>\n",
              "    <tr>\n",
              "      <th>1</th>\n",
              "      <td>A2CX7LUOHB2NDG</td>\n",
              "      <td>0321732944</td>\n",
              "      <td>5.0</td>\n",
              "      <td>1341100800</td>\n",
              "    </tr>\n",
              "    <tr>\n",
              "      <th>2</th>\n",
              "      <td>A2NWSAGRHCP8N5</td>\n",
              "      <td>0439886341</td>\n",
              "      <td>1.0</td>\n",
              "      <td>1367193600</td>\n",
              "    </tr>\n",
              "    <tr>\n",
              "      <th>3</th>\n",
              "      <td>A2WNBOD3WNDNKT</td>\n",
              "      <td>0439886341</td>\n",
              "      <td>3.0</td>\n",
              "      <td>1374451200</td>\n",
              "    </tr>\n",
              "    <tr>\n",
              "      <th>4</th>\n",
              "      <td>A1GI0U4ZRJA8WN</td>\n",
              "      <td>0439886341</td>\n",
              "      <td>1.0</td>\n",
              "      <td>1334707200</td>\n",
              "    </tr>\n",
              "  </tbody>\n",
              "</table>\n",
              "</div>"
            ],
            "text/plain": [
              "           userId   productId  Rating   timestamp\n",
              "0   AKM1MP6P0OYPR  0132793040     5.0  1365811200\n",
              "1  A2CX7LUOHB2NDG  0321732944     5.0  1341100800\n",
              "2  A2NWSAGRHCP8N5  0439886341     1.0  1367193600\n",
              "3  A2WNBOD3WNDNKT  0439886341     3.0  1374451200\n",
              "4  A1GI0U4ZRJA8WN  0439886341     1.0  1334707200"
            ]
          },
          "metadata": {},
          "execution_count": 9
        }
      ]
    },
    {
      "cell_type": "code",
      "metadata": {
        "colab": {
          "base_uri": "https://localhost:8080/"
        },
        "id": "AxD9DokhzMLm",
        "outputId": "2b4bf5c8-faaa-4679-f0cf-dd1a4548dff2"
      },
      "source": [
        "electronics_data.shape"
      ],
      "execution_count": 10,
      "outputs": [
        {
          "output_type": "execute_result",
          "data": {
            "text/plain": [
              "(7824482, 4)"
            ]
          },
          "metadata": {},
          "execution_count": 10
        }
      ]
    },
    {
      "cell_type": "code",
      "metadata": {
        "id": "UJ7fDkPezPXO"
      },
      "source": [
        "electronics_data=electronics_data.iloc[:1048576,0:]"
      ],
      "execution_count": 11,
      "outputs": []
    },
    {
      "cell_type": "code",
      "metadata": {
        "colab": {
          "base_uri": "https://localhost:8080/"
        },
        "id": "YpYfgy96zhc6",
        "outputId": "efc24ae5-65b1-4c87-deef-2050393aa70e"
      },
      "source": [
        "electronics_data.dtypes"
      ],
      "execution_count": 12,
      "outputs": [
        {
          "output_type": "execute_result",
          "data": {
            "text/plain": [
              "userId        object\n",
              "productId     object\n",
              "Rating       float64\n",
              "timestamp      int64\n",
              "dtype: object"
            ]
          },
          "metadata": {},
          "execution_count": 12
        }
      ]
    },
    {
      "cell_type": "code",
      "metadata": {
        "colab": {
          "base_uri": "https://localhost:8080/"
        },
        "id": "64y7023izjHz",
        "outputId": "1023f43e-59bb-4afc-e9a4-abb0d5953c81"
      },
      "source": [
        "electronics_data.describe()['Rating'].T"
      ],
      "execution_count": 13,
      "outputs": [
        {
          "output_type": "execute_result",
          "data": {
            "text/plain": [
              "count    1.048576e+06\n",
              "mean     3.973380e+00\n",
              "std      1.399329e+00\n",
              "min      1.000000e+00\n",
              "25%      3.000000e+00\n",
              "50%      5.000000e+00\n",
              "75%      5.000000e+00\n",
              "max      5.000000e+00\n",
              "Name: Rating, dtype: float64"
            ]
          },
          "metadata": {},
          "execution_count": 13
        }
      ]
    },
    {
      "cell_type": "code",
      "metadata": {
        "colab": {
          "base_uri": "https://localhost:8080/"
        },
        "id": "gLsVQJyQzocJ",
        "outputId": "223e2c6f-0972-4009-c7a6-12c48d534f51"
      },
      "source": [
        "print(\"max of rating : %d\" %(electronics_data.Rating.max()))\n",
        "print(\"min of rating : %d\" %(electronics_data.Rating.min()))"
      ],
      "execution_count": 14,
      "outputs": [
        {
          "output_type": "stream",
          "name": "stdout",
          "text": [
            "max of rating : 5\n",
            "min of rating : 1\n"
          ]
        }
      ]
    },
    {
      "cell_type": "code",
      "metadata": {
        "colab": {
          "base_uri": "https://localhost:8080/"
        },
        "id": "UL-bWJVwzqzV",
        "outputId": "a1f869ea-5c53-43e4-bb34-a256a532a573"
      },
      "source": [
        "print('Number of missing values across columns:\\n',electronics_data.isnull().sum())"
      ],
      "execution_count": 15,
      "outputs": [
        {
          "output_type": "stream",
          "name": "stdout",
          "text": [
            "Number of missing values across columns:\n",
            " userId       0\n",
            "productId    0\n",
            "Rating       0\n",
            "timestamp    0\n",
            "dtype: int64\n"
          ]
        }
      ]
    },
    {
      "cell_type": "code",
      "metadata": {
        "colab": {
          "base_uri": "https://localhost:8080/",
          "height": 387
        },
        "id": "bnf3oSdIz8HL",
        "outputId": "31c74747-487c-4ed3-87b6-d581410665aa"
      },
      "source": [
        "with sns.axes_style('white'):\n",
        "  g=sns.factorplot(\"Rating\",data=electronics_data,\n",
        "                   aspect=2.0,kind='count')\n",
        "  g.set_ylabels(\"Total number of ratings\")"
      ],
      "execution_count": 16,
      "outputs": [
        {
          "output_type": "execute_result",
          "data": {
            "text/plain": [
              "<seaborn.axisgrid.FacetGrid at 0x7fd7e405d310>"
            ]
          },
          "metadata": {},
          "execution_count": 16
        },
        {
          "output_type": "display_data",
          "data": {
            "image/png": "[encoded data removed]",
            "text/plain": [
              "<Figure size 720x360 with 1 Axes>"
            ]
          },
          "metadata": {}
        }
      ]
    },
    {
      "cell_type": "code",
      "metadata": {
        "colab": {
          "base_uri": "https://localhost:8080/"
        },
        "id": "6Zhwjpre0KpB",
        "outputId": "410cfea6-b53f-4755-e646-ac12ef69b493"
      },
      "source": [
        "print(\"Total data\")\n",
        "print(\"-\"*50)\n",
        "print('\\nTotal num of ratings:',electronics_data.shape[0])\n",
        "print('Total num of Users:',len(np.unique(electronics_data.userId)))\n",
        "print('Total num of products:',len(np.unique(electronics_data.productId)))"
      ],
      "execution_count": 17,
      "outputs": [
        {
          "output_type": "stream",
          "name": "stdout",
          "text": [
            "Total data\n",
            "--------------------------------------------------\n",
            "\n",
            "Total num of ratings: 1048576\n",
            "Total num of Users: 786330\n",
            "Total num of products: 61894\n"
          ]
        }
      ]
    },
    {
      "cell_type": "code",
      "metadata": {
        "id": "aY5saUqB0lPA"
      },
      "source": [
        "electronics_data.drop(['timestamp'],axis=1,inplace=True)"
      ],
      "execution_count": 18,
      "outputs": []
    },
    {
      "cell_type": "code",
      "metadata": {
        "colab": {
          "base_uri": "https://localhost:8080/",
          "height": 204
        },
        "id": "aD52D9ay0z15",
        "outputId": "7b110297-5e5f-4be8-ac8d-a43e6a492391"
      },
      "source": [
        "electronics_data.head()"
      ],
      "execution_count": 19,
      "outputs": [
        {
          "output_type": "execute_result",
          "data": {
            "text/html": [
              "<div>\n",
              "<style scoped>\n",
              "    .dataframe tbody tr th:only-of-type {\n",
              "        vertical-align: middle;\n",
              "    }\n",
              "\n",
              "    .dataframe tbody tr th {\n",
              "        vertical-align: top;\n",
              "    }\n",
              "\n",
              "    .dataframe thead th {\n",
              "        text-align: right;\n",
              "    }\n",
              "</style>\n",
              "<table border=\"1\" class=\"dataframe\">\n",
              "  <thead>\n",
              "    <tr style=\"text-align: right;\">\n",
              "      <th></th>\n",
              "      <th>userId</th>\n",
              "      <th>productId</th>\n",
              "      <th>Rating</th>\n",
              "    </tr>\n",
              "  </thead>\n",
              "  <tbody>\n",
              "    <tr>\n",
              "      <th>0</th>\n",
              "      <td>AKM1MP6P0OYPR</td>\n",
              "      <td>0132793040</td>\n",
              "      <td>5.0</td>\n",
              "    </tr>\n",
              "    <tr>\n",
              "      <th>1</th>\n",
              "      <td>A2CX7LUOHB2NDG</td>\n",
              "      <td>0321732944</td>\n",
              "      <td>5.0</td>\n",
              "    </tr>\n",
              "    <tr>\n",
              "      <th>2</th>\n",
              "      <td>A2NWSAGRHCP8N5</td>\n",
              "      <td>0439886341</td>\n",
              "      <td>1.0</td>\n",
              "    </tr>\n",
              "    <tr>\n",
              "      <th>3</th>\n",
              "      <td>A2WNBOD3WNDNKT</td>\n",
              "      <td>0439886341</td>\n",
              "      <td>3.0</td>\n",
              "    </tr>\n",
              "    <tr>\n",
              "      <th>4</th>\n",
              "      <td>A1GI0U4ZRJA8WN</td>\n",
              "      <td>0439886341</td>\n",
              "      <td>1.0</td>\n",
              "    </tr>\n",
              "  </tbody>\n",
              "</table>\n",
              "</div>"
            ],
            "text/plain": [
              "           userId   productId  Rating\n",
              "0   AKM1MP6P0OYPR  0132793040     5.0\n",
              "1  A2CX7LUOHB2NDG  0321732944     5.0\n",
              "2  A2NWSAGRHCP8N5  0439886341     1.0\n",
              "3  A2WNBOD3WNDNKT  0439886341     3.0\n",
              "4  A1GI0U4ZRJA8WN  0439886341     1.0"
            ]
          },
          "metadata": {},
          "execution_count": 19
        }
      ]
    },
    {
      "cell_type": "markdown",
      "metadata": {
        "id": "c0hjHzXq025i"
      },
      "source": [
        "ratings 분석"
      ]
    },
    {
      "cell_type": "code",
      "metadata": {
        "colab": {
          "base_uri": "https://localhost:8080/"
        },
        "id": "gde-iqvP01Q9",
        "outputId": "155af19b-a535-4203-9d1c-ece84f423dfe"
      },
      "source": [
        "num_of_rated_products_per_user=electronics_data.groupby(\n",
        "    by='userId')['Rating'].count().sort_values(ascending=False)\n",
        "num_of_rated_products_per_user.head()"
      ],
      "execution_count": 20,
      "outputs": [
        {
          "output_type": "execute_result",
          "data": {
            "text/plain": [
              "userId\n",
              "A5JLAU2ARJ0BO     412\n",
              "A231WM2Z2JL0U3    249\n",
              "A25HBO5V8S8SEA    164\n",
              "A6FIAB28IS79      146\n",
              "AT6CZDCP4TRGA     128\n",
              "Name: Rating, dtype: int64"
            ]
          },
          "metadata": {},
          "execution_count": 20
        }
      ]
    },
    {
      "cell_type": "code",
      "metadata": {
        "colab": {
          "base_uri": "https://localhost:8080/"
        },
        "id": "FjgFWbXL1TX8",
        "outputId": "402d1660-3fe9-460a-8d76-94775228da74"
      },
      "source": [
        "num_of_rated_products_per_user.describe()"
      ],
      "execution_count": 21,
      "outputs": [
        {
          "output_type": "execute_result",
          "data": {
            "text/plain": [
              "count    786330.000000\n",
              "mean          1.333506\n",
              "std           1.385612\n",
              "min           1.000000\n",
              "25%           1.000000\n",
              "50%           1.000000\n",
              "75%           1.000000\n",
              "max         412.000000\n",
              "Name: Rating, dtype: float64"
            ]
          },
          "metadata": {},
          "execution_count": 21
        }
      ]
    },
    {
      "cell_type": "code",
      "metadata": {
        "id": "Jyf9tcyS1YeN"
      },
      "source": [
        "#거의 모든 유저들이 하나의 아이템에만 평가...?"
      ],
      "execution_count": 22,
      "outputs": []
    },
    {
      "cell_type": "code",
      "metadata": {
        "colab": {
          "base_uri": "https://localhost:8080/"
        },
        "id": "r_3xeoP01fEK",
        "outputId": "1d6bc5cf-0f6d-4471-98b7-bb5f1a1ace4c"
      },
      "source": [
        "num_of_rated_products_per_user[num_of_rated_products_per_user>=2].count()"
      ],
      "execution_count": 23,
      "outputs": [
        {
          "output_type": "execute_result",
          "data": {
            "text/plain": [
              "136821"
            ]
          },
          "metadata": {},
          "execution_count": 23
        }
      ]
    },
    {
      "cell_type": "code",
      "metadata": {
        "colab": {
          "base_uri": "https://localhost:8080/"
        },
        "id": "Hdh73EPM1oCP",
        "outputId": "ca3db2c6-8624-44a9-f29f-fb839e134514"
      },
      "source": [
        "786330/136821"
      ],
      "execution_count": 24,
      "outputs": [
        {
          "output_type": "execute_result",
          "data": {
            "text/plain": [
              "5.747144078759839"
            ]
          },
          "metadata": {},
          "execution_count": 24
        }
      ]
    },
    {
      "cell_type": "code",
      "metadata": {
        "id": "rftmtAcj13Xq"
      },
      "source": [
        "quantiles=num_of_rated_products_per_user.quantile(np.arange(0,1.01,0.01), interpolation='higher')"
      ],
      "execution_count": 25,
      "outputs": []
    },
    {
      "cell_type": "code",
      "metadata": {
        "colab": {
          "base_uri": "https://localhost:8080/",
          "height": 713
        },
        "id": "W8Ao024W2FN6",
        "outputId": "2249fc87-0c09-4414-db30-1977ccfd6466"
      },
      "source": [
        "plt.figure(figsize=(10,10))\n",
        "plt.title('Quantiles and their Values')\n",
        "quantiles.plot()\n",
        "\n",
        "plt.scatter(x=quantiles.index[::5],y=quantiles.values[::5],c='orange',label='quantiles with 0.05 intervals')\n",
        "plt.scatter(x=quantiles.index[::25],y=quantiles.values[::25],c='m',label='quantiles with 0.25 intervals')\n",
        "plt.ylabel('No of ratings by user')\n",
        "plt.xlabel('Value at the quantile')\n",
        "plt.legend(loc='best')\n",
        "plt.show()"
      ],
      "execution_count": 26,
      "outputs": [
        {
          "output_type": "execute_result",
          "data": {
            "text/plain": [
              "<Figure size 720x720 with 0 Axes>"
            ]
          },
          "metadata": {},
          "execution_count": 26
        },
        {
          "output_type": "execute_result",
          "data": {
            "text/plain": [
              "Text(0.5, 1.0, 'Quantiles and their Values')"
            ]
          },
          "metadata": {},
          "execution_count": 26
        },
        {
          "output_type": "execute_result",
          "data": {
            "text/plain": [
              "<matplotlib.axes._subplots.AxesSubplot at 0x7fd7b83c34d0>"
            ]
          },
          "metadata": {},
          "execution_count": 26
        },
        {
          "output_type": "execute_result",
          "data": {
            "text/plain": [
              "<matplotlib.collections.PathCollection at 0x7fd7b7378c10>"
            ]
          },
          "metadata": {},
          "execution_count": 26
        },
        {
          "output_type": "execute_result",
          "data": {
            "text/plain": [
              "<matplotlib.collections.PathCollection at 0x7fd7b83cf5d0>"
            ]
          },
          "metadata": {},
          "execution_count": 26
        },
        {
          "output_type": "execute_result",
          "data": {
            "text/plain": [
              "Text(0, 0.5, 'No of ratings by user')"
            ]
          },
          "metadata": {},
          "execution_count": 26
        },
        {
          "output_type": "execute_result",
          "data": {
            "text/plain": [
              "Text(0.5, 0, 'Value at the quantile')"
            ]
          },
          "metadata": {},
          "execution_count": 26
        },
        {
          "output_type": "execute_result",
          "data": {
            "text/plain": [
              "<matplotlib.legend.Legend at 0x7fd7b734f950>"
            ]
          },
          "metadata": {},
          "execution_count": 26
        },
        {
          "output_type": "display_data",
          "data": {
            "image/png": "[encoded data removed]",
            "text/plain": [
              "<Figure size 720x720 with 1 Axes>"
            ]
          },
          "metadata": {
            "needs_background": "light"
          }
        }
      ]
    },
    {
      "cell_type": "code",
      "metadata": {
        "colab": {
          "base_uri": "https://localhost:8080/"
        },
        "id": "3N1bWojF3n30",
        "outputId": "6546d781-e954-440a-9a1c-70dfcf6f296d"
      },
      "source": [
        "print('\\n No of rated product more than 50 per user: {}\\n'.format(\n",
        "    sum(num_of_rated_products_per_user>=50)\n",
        "))"
      ],
      "execution_count": 27,
      "outputs": [
        {
          "output_type": "stream",
          "name": "stdout",
          "text": [
            "\n",
            " No of rated product more than 50 per user: 38\n",
            "\n"
          ]
        }
      ]
    },
    {
      "cell_type": "markdown",
      "metadata": {
        "id": "IxQNQiT64Vmy"
      },
      "source": [
        "popularity based recommendation"
      ]
    },
    {
      "cell_type": "code",
      "metadata": {
        "id": "Tn43Hen334Sc"
      },
      "source": [
        "new_df=electronics_data.groupby('productId').filter(lambda x:x['Rating'].count()>=50)"
      ],
      "execution_count": 28,
      "outputs": []
    },
    {
      "cell_type": "code",
      "metadata": {
        "colab": {
          "base_uri": "https://localhost:8080/",
          "height": 204
        },
        "id": "UryalAwz4gY9",
        "outputId": "262afe4f-d6e4-45be-eacb-ab2774d819a2"
      },
      "source": [
        "new_df.head()"
      ],
      "execution_count": 29,
      "outputs": [
        {
          "output_type": "execute_result",
          "data": {
            "text/html": [
              "<div>\n",
              "<style scoped>\n",
              "    .dataframe tbody tr th:only-of-type {\n",
              "        vertical-align: middle;\n",
              "    }\n",
              "\n",
              "    .dataframe tbody tr th {\n",
              "        vertical-align: top;\n",
              "    }\n",
              "\n",
              "    .dataframe thead th {\n",
              "        text-align: right;\n",
              "    }\n",
              "</style>\n",
              "<table border=\"1\" class=\"dataframe\">\n",
              "  <thead>\n",
              "    <tr style=\"text-align: right;\">\n",
              "      <th></th>\n",
              "      <th>userId</th>\n",
              "      <th>productId</th>\n",
              "      <th>Rating</th>\n",
              "    </tr>\n",
              "  </thead>\n",
              "  <tbody>\n",
              "    <tr>\n",
              "      <th>183</th>\n",
              "      <td>A1BKC6B7YHYTVV</td>\n",
              "      <td>0972683275</td>\n",
              "      <td>4.0</td>\n",
              "    </tr>\n",
              "    <tr>\n",
              "      <th>184</th>\n",
              "      <td>AWVFSIB42LHKJ</td>\n",
              "      <td>0972683275</td>\n",
              "      <td>4.0</td>\n",
              "    </tr>\n",
              "    <tr>\n",
              "      <th>185</th>\n",
              "      <td>A36MQBNADRH8YY</td>\n",
              "      <td>0972683275</td>\n",
              "      <td>5.0</td>\n",
              "    </tr>\n",
              "    <tr>\n",
              "      <th>186</th>\n",
              "      <td>A3SRXMPLAEZ6DP</td>\n",
              "      <td>0972683275</td>\n",
              "      <td>4.0</td>\n",
              "    </tr>\n",
              "    <tr>\n",
              "      <th>187</th>\n",
              "      <td>A20XXTXWF2TCPY</td>\n",
              "      <td>0972683275</td>\n",
              "      <td>5.0</td>\n",
              "    </tr>\n",
              "  </tbody>\n",
              "</table>\n",
              "</div>"
            ],
            "text/plain": [
              "             userId   productId  Rating\n",
              "183  A1BKC6B7YHYTVV  0972683275     4.0\n",
              "184   AWVFSIB42LHKJ  0972683275     4.0\n",
              "185  A36MQBNADRH8YY  0972683275     5.0\n",
              "186  A3SRXMPLAEZ6DP  0972683275     4.0\n",
              "187  A20XXTXWF2TCPY  0972683275     5.0"
            ]
          },
          "metadata": {},
          "execution_count": 29
        }
      ]
    },
    {
      "cell_type": "code",
      "metadata": {
        "colab": {
          "base_uri": "https://localhost:8080/"
        },
        "id": "MO3oMaLJ4wd1",
        "outputId": "7e03b592-f325-4e6b-cb36-7421ac7dc427"
      },
      "source": [
        "new_df.shape"
      ],
      "execution_count": 30,
      "outputs": [
        {
          "output_type": "execute_result",
          "data": {
            "text/plain": [
              "(677947, 3)"
            ]
          },
          "metadata": {},
          "execution_count": 30
        }
      ]
    },
    {
      "cell_type": "code",
      "metadata": {
        "colab": {
          "base_uri": "https://localhost:8080/",
          "height": 341
        },
        "id": "aKVqhiDF5EUj",
        "outputId": "62e0c730-0b60-4968-d339-c6db0b90fbc5"
      },
      "source": [
        "num_of_ratings_per_product=new_df.groupby(by='productId')['Rating'].count().sort_values(ascending=False)\n",
        "fig=plt.figure(figsize=plt.figaspect(.5))\n",
        "ax=plt.gca()\n",
        "plt.plot(num_of_ratings_per_product.values)\n",
        "plt.title('# Ratings per Product')\n",
        "plt.xlabel('product')\n",
        "plt.ylabel('no of ratings per product')\n",
        "ax.set_xticklabels([])\n",
        "\n",
        "plt.show()"
      ],
      "execution_count": 31,
      "outputs": [
        {
          "output_type": "execute_result",
          "data": {
            "text/plain": [
              "[<matplotlib.lines.Line2D at 0x7fd7b6888990>]"
            ]
          },
          "metadata": {},
          "execution_count": 31
        },
        {
          "output_type": "execute_result",
          "data": {
            "text/plain": [
              "Text(0.5, 1.0, '# Ratings per Product')"
            ]
          },
          "metadata": {},
          "execution_count": 31
        },
        {
          "output_type": "execute_result",
          "data": {
            "text/plain": [
              "Text(0.5, 0, 'product')"
            ]
          },
          "metadata": {},
          "execution_count": 31
        },
        {
          "output_type": "execute_result",
          "data": {
            "text/plain": [
              "Text(0, 0.5, 'no of ratings per product')"
            ]
          },
          "metadata": {},
          "execution_count": 31
        },
        {
          "output_type": "execute_result",
          "data": {
            "text/plain": [
              "[]"
            ]
          },
          "metadata": {},
          "execution_count": 31
        },
        {
          "output_type": "display_data",
          "data": {
            "image/png": "[encoded data removed]",
            "text/plain": [
              "<Figure size 576x288 with 1 Axes>"
            ]
          },
          "metadata": {
            "needs_background": "light"
          }
        }
      ]
    },
    {
      "cell_type": "code",
      "metadata": {
        "colab": {
          "base_uri": "https://localhost:8080/"
        },
        "id": "jFBn9CFO5yzX",
        "outputId": "ad1d8cb3-62d2-46bb-c390-0b85226a2643"
      },
      "source": [
        "new_df.groupby('productId')['Rating'].mean().head()"
      ],
      "execution_count": 32,
      "outputs": [
        {
          "output_type": "execute_result",
          "data": {
            "text/plain": [
              "productId\n",
              "0972683275    4.470980\n",
              "1400501466    3.560000\n",
              "1400501520    4.243902\n",
              "1400501776    3.884892\n",
              "1400532620    3.684211\n",
              "Name: Rating, dtype: float64"
            ]
          },
          "metadata": {},
          "execution_count": 32
        }
      ]
    },
    {
      "cell_type": "code",
      "metadata": {
        "colab": {
          "base_uri": "https://localhost:8080/"
        },
        "id": "X52XLP6j58x0",
        "outputId": "f477ae31-73ac-4c8e-b936-d2f9866d1645"
      },
      "source": [
        "new_df.groupby('productId')['Rating'].mean().sort_values(\n",
        "    ascending=False\n",
        ").head()"
      ],
      "execution_count": 33,
      "outputs": [
        {
          "output_type": "execute_result",
          "data": {
            "text/plain": [
              "productId\n",
              "B0000DYV9H    4.947368\n",
              "B000053HC5    4.945783\n",
              "B00009R96C    4.885714\n",
              "B00005LE76    4.879310\n",
              "B000I1X3W8    4.869565\n",
              "Name: Rating, dtype: float64"
            ]
          },
          "metadata": {},
          "execution_count": 33
        }
      ]
    },
    {
      "cell_type": "code",
      "metadata": {
        "colab": {
          "base_uri": "https://localhost:8080/"
        },
        "id": "GAF2mv_u6Jnd",
        "outputId": "f1d16dd8-f15c-4746-ad39-a63081612760"
      },
      "source": [
        "new_df.groupby('productId')['Rating'].count().sort_values(\n",
        "    ascending=False\n",
        ").head()"
      ],
      "execution_count": 34,
      "outputs": [
        {
          "output_type": "execute_result",
          "data": {
            "text/plain": [
              "productId\n",
              "B0002L5R78    9487\n",
              "B0001FTVEK    5345\n",
              "B000I68BD4    4903\n",
              "B000BQ7GW8    4275\n",
              "B00007E7JU    3523\n",
              "Name: Rating, dtype: int64"
            ]
          },
          "metadata": {},
          "execution_count": 34
        }
      ]
    },
    {
      "cell_type": "code",
      "metadata": {
        "id": "oOulGl5r6Z92"
      },
      "source": [
        "ratings_mean_count=pd.DataFrame(new_df.groupby('productId')['Rating'].mean())"
      ],
      "execution_count": 35,
      "outputs": []
    },
    {
      "cell_type": "code",
      "metadata": {
        "id": "Fr0o1Z9Q7S6k"
      },
      "source": [
        "ratings_mean_count['rating_counts'] = pd.DataFrame(new_df.groupby('productId')['Rating'].count())"
      ],
      "execution_count": 36,
      "outputs": []
    },
    {
      "cell_type": "code",
      "metadata": {
        "colab": {
          "base_uri": "https://localhost:8080/"
        },
        "id": "HMPcmLoO6hkC",
        "outputId": "7a6cdffc-6a3e-4d52-f032-6b34d846b062"
      },
      "source": [
        "ratings_mean_count['rating_counts'].max()"
      ],
      "execution_count": 37,
      "outputs": [
        {
          "output_type": "execute_result",
          "data": {
            "text/plain": [
              "9487"
            ]
          },
          "metadata": {},
          "execution_count": 37
        }
      ]
    },
    {
      "cell_type": "code",
      "metadata": {
        "colab": {
          "base_uri": "https://localhost:8080/",
          "height": 392
        },
        "id": "2-QX77mt6w6w",
        "outputId": "bb35b6ae-f3da-4dc3-e606-bb903450ea11"
      },
      "source": [
        "plt.figure(figsize=(6,6))\n",
        "plt.rcParams['patch.force_edgecolor']=True\n",
        "ratings_mean_count['rating_counts'].hist(bins=50)\n"
      ],
      "execution_count": 38,
      "outputs": [
        {
          "output_type": "execute_result",
          "data": {
            "text/plain": [
              "<Figure size 432x432 with 0 Axes>"
            ]
          },
          "metadata": {},
          "execution_count": 38
        },
        {
          "output_type": "execute_result",
          "data": {
            "text/plain": [
              "<matplotlib.axes._subplots.AxesSubplot at 0x7fd7b687e2d0>"
            ]
          },
          "metadata": {},
          "execution_count": 38
        },
        {
          "output_type": "display_data",
          "data": {
            "image/png": "[encoded data removed]",
            "text/plain": [
              "<Figure size 432x432 with 1 Axes>"
            ]
          },
          "metadata": {
            "needs_background": "light"
          }
        }
      ]
    },
    {
      "cell_type": "code",
      "metadata": {
        "colab": {
          "base_uri": "https://localhost:8080/",
          "height": 392
        },
        "id": "fcOvFwgc7wLx",
        "outputId": "bd143b63-f3e6-4a24-ffc0-5581d31d9f1c"
      },
      "source": [
        "plt.figure(figsize=(6,6))\n",
        "plt.rcParams['patch.force_edgecolor']=True\n",
        "ratings_mean_count['Rating'].hist(bins=50)"
      ],
      "execution_count": 39,
      "outputs": [
        {
          "output_type": "execute_result",
          "data": {
            "text/plain": [
              "<Figure size 432x432 with 0 Axes>"
            ]
          },
          "metadata": {},
          "execution_count": 39
        },
        {
          "output_type": "execute_result",
          "data": {
            "text/plain": [
              "<matplotlib.axes._subplots.AxesSubplot at 0x7fd7b6d7be90>"
            ]
          },
          "metadata": {},
          "execution_count": 39
        },
        {
          "output_type": "display_data",
          "data": {
            "image/png": "[encoded data removed]",
            "text/plain": [
              "<Figure size 432x432 with 1 Axes>"
            ]
          },
          "metadata": {
            "needs_background": "light"
          }
        }
      ]
    },
    {
      "cell_type": "code",
      "metadata": {
        "colab": {
          "base_uri": "https://localhost:8080/",
          "height": 477
        },
        "id": "qRw3BoQ68NB_",
        "outputId": "efe8a83d-d2b1-4390-b1ce-390aa6e466fe"
      },
      "source": [
        "plt.figure(figsize=(8,6))\n",
        "plt.rcParams['patch.force_edgecolor'] = True\n",
        "sns.jointplot(x='Rating', y='rating_counts', data=ratings_mean_count, alpha=0.4)"
      ],
      "execution_count": 40,
      "outputs": [
        {
          "output_type": "execute_result",
          "data": {
            "text/plain": [
              "<Figure size 576x432 with 0 Axes>"
            ]
          },
          "metadata": {},
          "execution_count": 40
        },
        {
          "output_type": "execute_result",
          "data": {
            "text/plain": [
              "<seaborn.axisgrid.JointGrid at 0x7fd7b6afc890>"
            ]
          },
          "metadata": {},
          "execution_count": 40
        },
        {
          "output_type": "display_data",
          "data": {
            "text/plain": [
              "<Figure size 576x432 with 0 Axes>"
            ]
          },
          "metadata": {}
        },
        {
          "output_type": "display_data",
          "data": {
            "image/png": "[encoded data removed]",
            "text/plain": [
              "<Figure size 432x432 with 3 Axes>"
            ]
          },
          "metadata": {
            "needs_background": "light"
          }
        }
      ]
    },
    {
      "cell_type": "code",
      "metadata": {
        "colab": {
          "base_uri": "https://localhost:8080/",
          "height": 358
        },
        "id": "Kep1eYOQ8Qs2",
        "outputId": "0b49cee4-2d41-4e11-daac-4bb981c89197"
      },
      "source": [
        "popular_products = pd.DataFrame(new_df.groupby('productId')['Rating'].count())\n",
        "most_popular = popular_products.sort_values(\"Rating\", ascending=False)\n",
        "most_popular.head(30).plot(kind = \"bar\")"
      ],
      "execution_count": 41,
      "outputs": [
        {
          "output_type": "execute_result",
          "data": {
            "text/plain": [
              "<matplotlib.axes._subplots.AxesSubplot at 0x7fd7b6646710>"
            ]
          },
          "metadata": {},
          "execution_count": 41
        },
        {
          "output_type": "display_data",
          "data": {
            "image/png": "[encoded data removed]",
            "text/plain": [
              "<Figure size 432x288 with 1 Axes>"
            ]
          },
          "metadata": {
            "needs_background": "light"
          }
        }
      ]
    },
    {
      "cell_type": "markdown",
      "metadata": {
        "id": "JwyuHA8-xA_r"
      },
      "source": [
        "collaborative filtering"
      ]
    },
    {
      "cell_type": "code",
      "metadata": {
        "id": "2q2wKdiq8bnq",
        "colab": {
          "base_uri": "https://localhost:8080/"
        },
        "outputId": "9780b44e-4e83-48d9-fbc1-216bfbd43dc7"
      },
      "source": [
        "!pip3 install surprise"
      ],
      "execution_count": 42,
      "outputs": [
        {
          "output_type": "stream",
          "name": "stdout",
          "text": [
            "Requirement already satisfied: surprise in /usr/local/lib/python3.7/dist-packages (0.1)\n",
            "Requirement already satisfied: scikit-surprise in /usr/local/lib/python3.7/dist-packages (from surprise) (1.1.1)\n",
            "Requirement already satisfied: numpy>=1.11.2 in /usr/local/lib/python3.7/dist-packages (from scikit-surprise->surprise) (1.19.5)\n",
            "Requirement already satisfied: scipy>=1.0.0 in /usr/local/lib/python3.7/dist-packages (from scikit-surprise->surprise) (1.4.1)\n",
            "Requirement already satisfied: joblib>=0.11 in /usr/local/lib/python3.7/dist-packages (from scikit-surprise->surprise) (1.0.1)\n",
            "Requirement already satisfied: six>=1.10.0 in /usr/local/lib/python3.7/dist-packages (from scikit-surprise->surprise) (1.15.0)\n"
          ]
        }
      ]
    },
    {
      "cell_type": "code",
      "metadata": {
        "id": "pk-wgRyG8Zty"
      },
      "source": [
        "from surprise import KNNWithMeans\n",
        "from surprise import Dataset\n",
        "from surprise import accuracy\n",
        "from surprise import Reader\n",
        "import os\n",
        "from surprise.model_selection import train_test_split"
      ],
      "execution_count": 43,
      "outputs": []
    },
    {
      "cell_type": "code",
      "metadata": {
        "id": "AG1QPK2Yvl-1"
      },
      "source": [
        "reader=Reader(rating_scale=(1,5))\n",
        "data=Dataset.load_from_df(new_df,reader)\n"
      ],
      "execution_count": 83,
      "outputs": []
    },
    {
      "cell_type": "code",
      "metadata": {
        "id": "RCDnAoOswGA-"
      },
      "source": [
        "trainset,testset=train_test_split(data,test_size=0.3,random_state=10)"
      ],
      "execution_count": 84,
      "outputs": []
    },
    {
      "cell_type": "code",
      "metadata": {
        "colab": {
          "base_uri": "https://localhost:8080/"
        },
        "id": "F_u18LAKwKs5",
        "outputId": "c201aee2-ff3c-4456-dd70-3817c703e071"
      },
      "source": [
        "algo=KNNWithMeans(k=5,sim_options={'name':'pearson_baseline','user_based':False})\n",
        "algo.fit(trainset)"
      ],
      "execution_count": 85,
      "outputs": [
        {
          "output_type": "stream",
          "name": "stdout",
          "text": [
            "Estimating biases using als...\n",
            "Computing the pearson_baseline similarity matrix...\n",
            "Done computing similarity matrix.\n"
          ]
        },
        {
          "output_type": "execute_result",
          "data": {
            "text/plain": [
              "<surprise.prediction_algorithms.knns.KNNWithMeans at 0x7fd7a7a79a50>"
            ]
          },
          "metadata": {},
          "execution_count": 85
        }
      ]
    },
    {
      "cell_type": "code",
      "metadata": {
        "id": "naYDL9PgwpG8"
      },
      "source": [
        "test_pred=algo.test(testset)"
      ],
      "execution_count": 86,
      "outputs": []
    },
    {
      "cell_type": "code",
      "metadata": {
        "colab": {
          "base_uri": "https://localhost:8080/"
        },
        "id": "OyGOEFQXwuIo",
        "outputId": "1d23eb2e-d711-4245-d949-0750d3dc6b59"
      },
      "source": [
        "print('Item-based Model : Test Set')\n",
        "accuracy.rmse(test_pred,verbose=True)"
      ],
      "execution_count": 87,
      "outputs": [
        {
          "output_type": "stream",
          "name": "stdout",
          "text": [
            "Item-based Model : Test Set\n",
            "RMSE: 1.3436\n"
          ]
        },
        {
          "output_type": "execute_result",
          "data": {
            "text/plain": [
              "1.343641161111319"
            ]
          },
          "metadata": {},
          "execution_count": 87
        }
      ]
    },
    {
      "cell_type": "markdown",
      "metadata": {
        "id": "5YYaXDWFw8M0"
      },
      "source": [
        "Model based collaborative filtering system"
      ]
    },
    {
      "cell_type": "code",
      "metadata": {
        "colab": {
          "base_uri": "https://localhost:8080/",
          "height": 256
        },
        "id": "u7592LQHw12l",
        "outputId": "78dadd83-7465-4346-c3c3-8312067f234a"
      },
      "source": [
        "new_df1=new_df.head(10000)\n",
        "ratings_matrix=new_df1.pivot_table(values='Rating',index='userId',columns='productId',fill_value=0)\n",
        "ratings_matrix.head()"
      ],
      "execution_count": 88,
      "outputs": [
        {
          "output_type": "execute_result",
          "data": {
            "text/html": [
              "<div>\n",
              "<style scoped>\n",
              "    .dataframe tbody tr th:only-of-type {\n",
              "        vertical-align: middle;\n",
              "    }\n",
              "\n",
              "    .dataframe tbody tr th {\n",
              "        vertical-align: top;\n",
              "    }\n",
              "\n",
              "    .dataframe thead th {\n",
              "        text-align: right;\n",
              "    }\n",
              "</style>\n",
              "<table border=\"1\" class=\"dataframe\">\n",
              "  <thead>\n",
              "    <tr style=\"text-align: right;\">\n",
              "      <th>productId</th>\n",
              "      <th>0972683275</th>\n",
              "      <th>1400501466</th>\n",
              "      <th>1400501520</th>\n",
              "      <th>1400501776</th>\n",
              "      <th>1400532620</th>\n",
              "      <th>1400532655</th>\n",
              "      <th>140053271X</th>\n",
              "      <th>1400532736</th>\n",
              "      <th>1400599997</th>\n",
              "      <th>1400698987</th>\n",
              "      <th>3744295508</th>\n",
              "      <th>6301977173</th>\n",
              "      <th>7214047977</th>\n",
              "      <th>8862935293</th>\n",
              "      <th>9573212919</th>\n",
              "      <th>9575871979</th>\n",
              "      <th>9625993428</th>\n",
              "      <th>9888002198</th>\n",
              "      <th>9966694544</th>\n",
              "      <th>9983891212</th>\n",
              "      <th>9984984354</th>\n",
              "      <th>9985511476</th>\n",
              "      <th>B000001OM4</th>\n",
              "      <th>B000001OM5</th>\n",
              "      <th>B000001OMI</th>\n",
              "      <th>B000001ON6</th>\n",
              "      <th>B00000DM9W</th>\n",
              "      <th>B00000IGBF</th>\n",
              "      <th>B00000J05A</th>\n",
              "      <th>B00000J061</th>\n",
              "      <th>B00000J08Q</th>\n",
              "      <th>B00000J0D2</th>\n",
              "      <th>B00000J0D5</th>\n",
              "      <th>B00000J0D8</th>\n",
              "      <th>B00000J1EJ</th>\n",
              "      <th>B00000J1EP</th>\n",
              "      <th>B00000J1EQ</th>\n",
              "      <th>B00000J1F3</th>\n",
              "      <th>B00000J1GA</th>\n",
              "      <th>B00000J1QK</th>\n",
              "      <th>B00000J1QR</th>\n",
              "      <th>B00000J1SC</th>\n",
              "      <th>B00000J1TX</th>\n",
              "      <th>B00000J1U8</th>\n",
              "      <th>B00000J1UQ</th>\n",
              "      <th>B00000J1V3</th>\n",
              "      <th>B00000J1V5</th>\n",
              "      <th>B00000J3NF</th>\n",
              "      <th>B00000J3Q7</th>\n",
              "      <th>B00000J3UJ</th>\n",
              "      <th>B00000J434</th>\n",
              "      <th>B00000J4EY</th>\n",
              "      <th>B00000J4FS</th>\n",
              "      <th>B00000J4GE</th>\n",
              "      <th>B00000J6WY</th>\n",
              "      <th>B00000JBAT</th>\n",
              "      <th>B00000JBHP</th>\n",
              "      <th>B00000JBPB</th>\n",
              "      <th>B00000JCT8</th>\n",
              "      <th>B00000JCTO</th>\n",
              "      <th>B00000JD34</th>\n",
              "      <th>B00000JDF5</th>\n",
              "      <th>B00000JDF6</th>\n",
              "      <th>B00000JDHV</th>\n",
              "      <th>B00000JFE3</th>\n",
              "      <th>B00000JFIF</th>\n",
              "      <th>B00000JFMK</th>\n",
              "      <th>B00000JHWX</th>\n",
              "      <th>B00000JI4F</th>\n",
              "      <th>B00000JII6</th>\n",
              "      <th>B00000JMUG</th>\n",
              "      <th>B00000JPPI</th>\n",
              "      <th>B00000JSGF</th>\n",
              "      <th>B00000JYLO</th>\n",
              "      <th>B00000JYWQ</th>\n",
              "      <th>B00000K135</th>\n",
              "    </tr>\n",
              "    <tr>\n",
              "      <th>userId</th>\n",
              "      <th></th>\n",
              "      <th></th>\n",
              "      <th></th>\n",
              "      <th></th>\n",
              "      <th></th>\n",
              "      <th></th>\n",
              "      <th></th>\n",
              "      <th></th>\n",
              "      <th></th>\n",
              "      <th></th>\n",
              "      <th></th>\n",
              "      <th></th>\n",
              "      <th></th>\n",
              "      <th></th>\n",
              "      <th></th>\n",
              "      <th></th>\n",
              "      <th></th>\n",
              "      <th></th>\n",
              "      <th></th>\n",
              "      <th></th>\n",
              "      <th></th>\n",
              "      <th></th>\n",
              "      <th></th>\n",
              "      <th></th>\n",
              "      <th></th>\n",
              "      <th></th>\n",
              "      <th></th>\n",
              "      <th></th>\n",
              "      <th></th>\n",
              "      <th></th>\n",
              "      <th></th>\n",
              "      <th></th>\n",
              "      <th></th>\n",
              "      <th></th>\n",
              "      <th></th>\n",
              "      <th></th>\n",
              "      <th></th>\n",
              "      <th></th>\n",
              "      <th></th>\n",
              "      <th></th>\n",
              "      <th></th>\n",
              "      <th></th>\n",
              "      <th></th>\n",
              "      <th></th>\n",
              "      <th></th>\n",
              "      <th></th>\n",
              "      <th></th>\n",
              "      <th></th>\n",
              "      <th></th>\n",
              "      <th></th>\n",
              "      <th></th>\n",
              "      <th></th>\n",
              "      <th></th>\n",
              "      <th></th>\n",
              "      <th></th>\n",
              "      <th></th>\n",
              "      <th></th>\n",
              "      <th></th>\n",
              "      <th></th>\n",
              "      <th></th>\n",
              "      <th></th>\n",
              "      <th></th>\n",
              "      <th></th>\n",
              "      <th></th>\n",
              "      <th></th>\n",
              "      <th></th>\n",
              "      <th></th>\n",
              "      <th></th>\n",
              "      <th></th>\n",
              "      <th></th>\n",
              "      <th></th>\n",
              "      <th></th>\n",
              "      <th></th>\n",
              "      <th></th>\n",
              "      <th></th>\n",
              "      <th></th>\n",
              "    </tr>\n",
              "  </thead>\n",
              "  <tbody>\n",
              "    <tr>\n",
              "      <th>A01852072Z7B68UHLI5UG</th>\n",
              "      <td>0</td>\n",
              "      <td>0</td>\n",
              "      <td>0</td>\n",
              "      <td>0</td>\n",
              "      <td>0</td>\n",
              "      <td>0</td>\n",
              "      <td>0</td>\n",
              "      <td>0</td>\n",
              "      <td>0</td>\n",
              "      <td>0</td>\n",
              "      <td>0</td>\n",
              "      <td>0</td>\n",
              "      <td>0</td>\n",
              "      <td>0</td>\n",
              "      <td>0</td>\n",
              "      <td>0</td>\n",
              "      <td>0</td>\n",
              "      <td>0</td>\n",
              "      <td>0</td>\n",
              "      <td>0</td>\n",
              "      <td>0</td>\n",
              "      <td>0</td>\n",
              "      <td>0</td>\n",
              "      <td>0</td>\n",
              "      <td>0</td>\n",
              "      <td>0</td>\n",
              "      <td>0</td>\n",
              "      <td>0</td>\n",
              "      <td>0</td>\n",
              "      <td>0</td>\n",
              "      <td>0</td>\n",
              "      <td>0</td>\n",
              "      <td>0</td>\n",
              "      <td>0</td>\n",
              "      <td>0</td>\n",
              "      <td>0</td>\n",
              "      <td>0</td>\n",
              "      <td>0</td>\n",
              "      <td>0</td>\n",
              "      <td>0</td>\n",
              "      <td>0</td>\n",
              "      <td>0</td>\n",
              "      <td>0</td>\n",
              "      <td>0</td>\n",
              "      <td>0</td>\n",
              "      <td>0</td>\n",
              "      <td>4</td>\n",
              "      <td>0</td>\n",
              "      <td>0</td>\n",
              "      <td>0</td>\n",
              "      <td>0</td>\n",
              "      <td>0</td>\n",
              "      <td>0</td>\n",
              "      <td>0</td>\n",
              "      <td>0</td>\n",
              "      <td>0</td>\n",
              "      <td>0</td>\n",
              "      <td>0</td>\n",
              "      <td>0</td>\n",
              "      <td>0</td>\n",
              "      <td>0</td>\n",
              "      <td>0</td>\n",
              "      <td>0</td>\n",
              "      <td>0</td>\n",
              "      <td>0</td>\n",
              "      <td>0</td>\n",
              "      <td>0</td>\n",
              "      <td>0</td>\n",
              "      <td>0</td>\n",
              "      <td>0</td>\n",
              "      <td>0</td>\n",
              "      <td>0</td>\n",
              "      <td>0</td>\n",
              "      <td>0</td>\n",
              "      <td>0</td>\n",
              "      <td>0</td>\n",
              "    </tr>\n",
              "    <tr>\n",
              "      <th>A0266076X6KPZ6CCHGVS</th>\n",
              "      <td>0</td>\n",
              "      <td>0</td>\n",
              "      <td>0</td>\n",
              "      <td>0</td>\n",
              "      <td>0</td>\n",
              "      <td>0</td>\n",
              "      <td>0</td>\n",
              "      <td>0</td>\n",
              "      <td>0</td>\n",
              "      <td>0</td>\n",
              "      <td>0</td>\n",
              "      <td>0</td>\n",
              "      <td>0</td>\n",
              "      <td>0</td>\n",
              "      <td>0</td>\n",
              "      <td>0</td>\n",
              "      <td>0</td>\n",
              "      <td>0</td>\n",
              "      <td>0</td>\n",
              "      <td>0</td>\n",
              "      <td>0</td>\n",
              "      <td>0</td>\n",
              "      <td>0</td>\n",
              "      <td>0</td>\n",
              "      <td>0</td>\n",
              "      <td>0</td>\n",
              "      <td>0</td>\n",
              "      <td>0</td>\n",
              "      <td>0</td>\n",
              "      <td>0</td>\n",
              "      <td>0</td>\n",
              "      <td>0</td>\n",
              "      <td>0</td>\n",
              "      <td>0</td>\n",
              "      <td>0</td>\n",
              "      <td>0</td>\n",
              "      <td>0</td>\n",
              "      <td>0</td>\n",
              "      <td>0</td>\n",
              "      <td>0</td>\n",
              "      <td>5</td>\n",
              "      <td>0</td>\n",
              "      <td>0</td>\n",
              "      <td>0</td>\n",
              "      <td>0</td>\n",
              "      <td>0</td>\n",
              "      <td>0</td>\n",
              "      <td>0</td>\n",
              "      <td>0</td>\n",
              "      <td>0</td>\n",
              "      <td>0</td>\n",
              "      <td>0</td>\n",
              "      <td>0</td>\n",
              "      <td>0</td>\n",
              "      <td>0</td>\n",
              "      <td>0</td>\n",
              "      <td>0</td>\n",
              "      <td>0</td>\n",
              "      <td>0</td>\n",
              "      <td>0</td>\n",
              "      <td>0</td>\n",
              "      <td>0</td>\n",
              "      <td>0</td>\n",
              "      <td>0</td>\n",
              "      <td>0</td>\n",
              "      <td>0</td>\n",
              "      <td>0</td>\n",
              "      <td>0</td>\n",
              "      <td>0</td>\n",
              "      <td>0</td>\n",
              "      <td>0</td>\n",
              "      <td>0</td>\n",
              "      <td>0</td>\n",
              "      <td>0</td>\n",
              "      <td>0</td>\n",
              "      <td>0</td>\n",
              "    </tr>\n",
              "    <tr>\n",
              "      <th>A0293130VTX2ZXA70JQS</th>\n",
              "      <td>5</td>\n",
              "      <td>0</td>\n",
              "      <td>0</td>\n",
              "      <td>0</td>\n",
              "      <td>0</td>\n",
              "      <td>0</td>\n",
              "      <td>0</td>\n",
              "      <td>0</td>\n",
              "      <td>0</td>\n",
              "      <td>0</td>\n",
              "      <td>0</td>\n",
              "      <td>0</td>\n",
              "      <td>0</td>\n",
              "      <td>0</td>\n",
              "      <td>0</td>\n",
              "      <td>0</td>\n",
              "      <td>0</td>\n",
              "      <td>0</td>\n",
              "      <td>0</td>\n",
              "      <td>0</td>\n",
              "      <td>0</td>\n",
              "      <td>0</td>\n",
              "      <td>0</td>\n",
              "      <td>0</td>\n",
              "      <td>0</td>\n",
              "      <td>0</td>\n",
              "      <td>0</td>\n",
              "      <td>0</td>\n",
              "      <td>0</td>\n",
              "      <td>0</td>\n",
              "      <td>0</td>\n",
              "      <td>0</td>\n",
              "      <td>0</td>\n",
              "      <td>0</td>\n",
              "      <td>0</td>\n",
              "      <td>0</td>\n",
              "      <td>0</td>\n",
              "      <td>0</td>\n",
              "      <td>0</td>\n",
              "      <td>0</td>\n",
              "      <td>0</td>\n",
              "      <td>0</td>\n",
              "      <td>0</td>\n",
              "      <td>0</td>\n",
              "      <td>0</td>\n",
              "      <td>0</td>\n",
              "      <td>0</td>\n",
              "      <td>0</td>\n",
              "      <td>0</td>\n",
              "      <td>0</td>\n",
              "      <td>0</td>\n",
              "      <td>0</td>\n",
              "      <td>0</td>\n",
              "      <td>0</td>\n",
              "      <td>0</td>\n",
              "      <td>0</td>\n",
              "      <td>0</td>\n",
              "      <td>0</td>\n",
              "      <td>0</td>\n",
              "      <td>0</td>\n",
              "      <td>0</td>\n",
              "      <td>0</td>\n",
              "      <td>0</td>\n",
              "      <td>0</td>\n",
              "      <td>0</td>\n",
              "      <td>0</td>\n",
              "      <td>0</td>\n",
              "      <td>0</td>\n",
              "      <td>0</td>\n",
              "      <td>0</td>\n",
              "      <td>0</td>\n",
              "      <td>0</td>\n",
              "      <td>0</td>\n",
              "      <td>0</td>\n",
              "      <td>0</td>\n",
              "      <td>0</td>\n",
              "    </tr>\n",
              "    <tr>\n",
              "      <th>A030530627MK66BD8V4LN</th>\n",
              "      <td>4</td>\n",
              "      <td>0</td>\n",
              "      <td>0</td>\n",
              "      <td>0</td>\n",
              "      <td>0</td>\n",
              "      <td>0</td>\n",
              "      <td>0</td>\n",
              "      <td>0</td>\n",
              "      <td>0</td>\n",
              "      <td>0</td>\n",
              "      <td>0</td>\n",
              "      <td>0</td>\n",
              "      <td>0</td>\n",
              "      <td>0</td>\n",
              "      <td>0</td>\n",
              "      <td>0</td>\n",
              "      <td>0</td>\n",
              "      <td>0</td>\n",
              "      <td>0</td>\n",
              "      <td>0</td>\n",
              "      <td>0</td>\n",
              "      <td>0</td>\n",
              "      <td>0</td>\n",
              "      <td>0</td>\n",
              "      <td>0</td>\n",
              "      <td>0</td>\n",
              "      <td>0</td>\n",
              "      <td>0</td>\n",
              "      <td>0</td>\n",
              "      <td>0</td>\n",
              "      <td>0</td>\n",
              "      <td>0</td>\n",
              "      <td>0</td>\n",
              "      <td>0</td>\n",
              "      <td>0</td>\n",
              "      <td>0</td>\n",
              "      <td>0</td>\n",
              "      <td>0</td>\n",
              "      <td>0</td>\n",
              "      <td>0</td>\n",
              "      <td>0</td>\n",
              "      <td>0</td>\n",
              "      <td>0</td>\n",
              "      <td>0</td>\n",
              "      <td>0</td>\n",
              "      <td>0</td>\n",
              "      <td>0</td>\n",
              "      <td>0</td>\n",
              "      <td>0</td>\n",
              "      <td>0</td>\n",
              "      <td>0</td>\n",
              "      <td>0</td>\n",
              "      <td>0</td>\n",
              "      <td>0</td>\n",
              "      <td>0</td>\n",
              "      <td>0</td>\n",
              "      <td>0</td>\n",
              "      <td>0</td>\n",
              "      <td>0</td>\n",
              "      <td>0</td>\n",
              "      <td>0</td>\n",
              "      <td>0</td>\n",
              "      <td>0</td>\n",
              "      <td>0</td>\n",
              "      <td>0</td>\n",
              "      <td>0</td>\n",
              "      <td>0</td>\n",
              "      <td>0</td>\n",
              "      <td>0</td>\n",
              "      <td>0</td>\n",
              "      <td>0</td>\n",
              "      <td>0</td>\n",
              "      <td>0</td>\n",
              "      <td>0</td>\n",
              "      <td>0</td>\n",
              "      <td>0</td>\n",
              "    </tr>\n",
              "    <tr>\n",
              "      <th>A0571176384K8RBNKGF8O</th>\n",
              "      <td>0</td>\n",
              "      <td>0</td>\n",
              "      <td>0</td>\n",
              "      <td>0</td>\n",
              "      <td>0</td>\n",
              "      <td>0</td>\n",
              "      <td>0</td>\n",
              "      <td>0</td>\n",
              "      <td>0</td>\n",
              "      <td>0</td>\n",
              "      <td>0</td>\n",
              "      <td>0</td>\n",
              "      <td>0</td>\n",
              "      <td>0</td>\n",
              "      <td>0</td>\n",
              "      <td>0</td>\n",
              "      <td>0</td>\n",
              "      <td>0</td>\n",
              "      <td>0</td>\n",
              "      <td>0</td>\n",
              "      <td>0</td>\n",
              "      <td>0</td>\n",
              "      <td>0</td>\n",
              "      <td>0</td>\n",
              "      <td>0</td>\n",
              "      <td>0</td>\n",
              "      <td>0</td>\n",
              "      <td>0</td>\n",
              "      <td>0</td>\n",
              "      <td>0</td>\n",
              "      <td>0</td>\n",
              "      <td>0</td>\n",
              "      <td>0</td>\n",
              "      <td>0</td>\n",
              "      <td>0</td>\n",
              "      <td>0</td>\n",
              "      <td>0</td>\n",
              "      <td>0</td>\n",
              "      <td>0</td>\n",
              "      <td>0</td>\n",
              "      <td>0</td>\n",
              "      <td>0</td>\n",
              "      <td>0</td>\n",
              "      <td>0</td>\n",
              "      <td>0</td>\n",
              "      <td>0</td>\n",
              "      <td>0</td>\n",
              "      <td>0</td>\n",
              "      <td>0</td>\n",
              "      <td>0</td>\n",
              "      <td>0</td>\n",
              "      <td>0</td>\n",
              "      <td>0</td>\n",
              "      <td>0</td>\n",
              "      <td>0</td>\n",
              "      <td>0</td>\n",
              "      <td>0</td>\n",
              "      <td>0</td>\n",
              "      <td>0</td>\n",
              "      <td>0</td>\n",
              "      <td>5</td>\n",
              "      <td>0</td>\n",
              "      <td>0</td>\n",
              "      <td>0</td>\n",
              "      <td>0</td>\n",
              "      <td>0</td>\n",
              "      <td>0</td>\n",
              "      <td>0</td>\n",
              "      <td>0</td>\n",
              "      <td>0</td>\n",
              "      <td>0</td>\n",
              "      <td>0</td>\n",
              "      <td>0</td>\n",
              "      <td>0</td>\n",
              "      <td>0</td>\n",
              "      <td>0</td>\n",
              "    </tr>\n",
              "  </tbody>\n",
              "</table>\n",
              "</div>"
            ],
            "text/plain": [
              "productId              0972683275  1400501466  ...  B00000JYWQ  B00000K135\n",
              "userId                                         ...                        \n",
              "A01852072Z7B68UHLI5UG           0           0  ...           0           0\n",
              "A0266076X6KPZ6CCHGVS            0           0  ...           0           0\n",
              "A0293130VTX2ZXA70JQS            5           0  ...           0           0\n",
              "A030530627MK66BD8V4LN           4           0  ...           0           0\n",
              "A0571176384K8RBNKGF8O           0           0  ...           0           0\n",
              "\n",
              "[5 rows x 76 columns]"
            ]
          },
          "metadata": {},
          "execution_count": 88
        }
      ]
    },
    {
      "cell_type": "code",
      "metadata": {
        "colab": {
          "base_uri": "https://localhost:8080/"
        },
        "id": "W5_XcAohxQTc",
        "outputId": "715683bc-f0fa-4d66-ab4c-a13261b8806a"
      },
      "source": [
        "ratings_matrix.shape"
      ],
      "execution_count": 89,
      "outputs": [
        {
          "output_type": "execute_result",
          "data": {
            "text/plain": [
              "(9832, 76)"
            ]
          },
          "metadata": {},
          "execution_count": 89
        }
      ]
    },
    {
      "cell_type": "code",
      "metadata": {
        "colab": {
          "base_uri": "https://localhost:8080/",
          "height": 284
        },
        "id": "P60LEFJ3xWny",
        "outputId": "7fb1c1df-be6c-4403-a597-e3602342d755"
      },
      "source": [
        "X=ratings_matrix.T\n",
        "X.head()"
      ],
      "execution_count": 90,
      "outputs": [
        {
          "output_type": "execute_result",
          "data": {
            "text/html": [
              "<div>\n",
              "<style scoped>\n",
              "    .dataframe tbody tr th:only-of-type {\n",
              "        vertical-align: middle;\n",
              "    }\n",
              "\n",
              "    .dataframe tbody tr th {\n",
              "        vertical-align: top;\n",
              "    }\n",
              "\n",
              "    .dataframe thead th {\n",
              "        text-align: right;\n",
              "    }\n",
              "</style>\n",
              "<table border=\"1\" class=\"dataframe\">\n",
              "  <thead>\n",
              "    <tr style=\"text-align: right;\">\n",
              "      <th>userId</th>\n",
              "      <th>A01852072Z7B68UHLI5UG</th>\n",
              "      <th>A0266076X6KPZ6CCHGVS</th>\n",
              "      <th>A0293130VTX2ZXA70JQS</th>\n",
              "      <th>A030530627MK66BD8V4LN</th>\n",
              "      <th>A0571176384K8RBNKGF8O</th>\n",
              "      <th>A0590501PZ7HOWJKBGQ4</th>\n",
              "      <th>A0641581307AKT5MAOU0Q</th>\n",
              "      <th>A076219533YHEV2LJO988</th>\n",
              "      <th>A0821988FXKFYX53V4QG</th>\n",
              "      <th>A099626739FNCRNHIKBCG</th>\n",
              "      <th>A1003EYWAQFOUG</th>\n",
              "      <th>A100LLXMXDZHJZ</th>\n",
              "      <th>A10121433FMMZNY18RWZ8</th>\n",
              "      <th>A1013OEQCVS6AR</th>\n",
              "      <th>A1013Q8NLCY56R</th>\n",
              "      <th>A101DJDPGK0Q46</th>\n",
              "      <th>A101IWCCIWQWC9</th>\n",
              "      <th>A10285OSAM1MZK</th>\n",
              "      <th>A102IUFPXVDRB6</th>\n",
              "      <th>A102L0RVI4LHH3</th>\n",
              "      <th>A102RLOGIBBDMW</th>\n",
              "      <th>A102ZABPUPNYCT</th>\n",
              "      <th>A1038957GWRBP375RU5T</th>\n",
              "      <th>A103XY7DJYZHFN</th>\n",
              "      <th>A104VHQ06KFLDT</th>\n",
              "      <th>A1058D8UFZL711</th>\n",
              "      <th>A105AZN9C8UAOJ</th>\n",
              "      <th>A105TOJ6LTVMBG</th>\n",
              "      <th>A106YUCY4SVX1D</th>\n",
              "      <th>A1077JEY0CE3BB</th>\n",
              "      <th>A1079KKA0AXSL3</th>\n",
              "      <th>A107I2HYD2JZ5G</th>\n",
              "      <th>A1089S59XSJT2T</th>\n",
              "      <th>A108LYH0NZ9919</th>\n",
              "      <th>A108UXJTIV8XXY</th>\n",
              "      <th>A10956KAP9F1CO</th>\n",
              "      <th>A109ZR833WIFQS</th>\n",
              "      <th>A10BH1JDT6SNGA</th>\n",
              "      <th>A10BOETDPAFJ4C</th>\n",
              "      <th>A10CRW7XRJBJ2G</th>\n",
              "      <th>...</th>\n",
              "      <th>AZKKZ58QBXZUA</th>\n",
              "      <th>AZKOO6TVQBDAF</th>\n",
              "      <th>AZL95QPWJDM3Y</th>\n",
              "      <th>AZM8PD2KBVXN5</th>\n",
              "      <th>AZMCJ61JS6L3X</th>\n",
              "      <th>AZMY6E8B52L2T</th>\n",
              "      <th>AZN6Z0QRMZYX8</th>\n",
              "      <th>AZNMO6T8G0ZEU</th>\n",
              "      <th>AZNVF1G1GJRR4</th>\n",
              "      <th>AZO3DZAJ8S0D9</th>\n",
              "      <th>AZODG8OG0CETL</th>\n",
              "      <th>AZOFJX627J181</th>\n",
              "      <th>AZOPTWUSS6UM0</th>\n",
              "      <th>AZOTUFIYPVNDT</th>\n",
              "      <th>AZPPZOYTNLEN0</th>\n",
              "      <th>AZPT44204EODM</th>\n",
              "      <th>AZPT6K5K0IVCT</th>\n",
              "      <th>AZPYIAOEAV3OZ</th>\n",
              "      <th>AZQ2YSCWSKWX6</th>\n",
              "      <th>AZQ9DYG38GVBR</th>\n",
              "      <th>AZQJQBJ75DHMS</th>\n",
              "      <th>AZQOWHUHXMIMS</th>\n",
              "      <th>AZQQVI9RHJYH6</th>\n",
              "      <th>AZQTJ6HUS5L2Q</th>\n",
              "      <th>AZRPGTU8A7KD5</th>\n",
              "      <th>AZS8W54PXQ01W</th>\n",
              "      <th>AZSUNAT0BRQDU</th>\n",
              "      <th>AZTC7YC8PKG39</th>\n",
              "      <th>AZTC8ZV20NO1D</th>\n",
              "      <th>AZV9WA9MNT0FB</th>\n",
              "      <th>AZWOPBY75SGAM</th>\n",
              "      <th>AZX0ZDVAFMN78</th>\n",
              "      <th>AZX5LAN9JEAFF</th>\n",
              "      <th>AZX7I110AF0W2</th>\n",
              "      <th>AZXKUK895VGSM</th>\n",
              "      <th>AZXP46IB63PU8</th>\n",
              "      <th>AZYTSU42BZ7TP</th>\n",
              "      <th>AZZGJ2KMWB7R</th>\n",
              "      <th>AZZMV5VT9W7Y8</th>\n",
              "      <th>AZZST8OYL5P4Q</th>\n",
              "    </tr>\n",
              "    <tr>\n",
              "      <th>productId</th>\n",
              "      <th></th>\n",
              "      <th></th>\n",
              "      <th></th>\n",
              "      <th></th>\n",
              "      <th></th>\n",
              "      <th></th>\n",
              "      <th></th>\n",
              "      <th></th>\n",
              "      <th></th>\n",
              "      <th></th>\n",
              "      <th></th>\n",
              "      <th></th>\n",
              "      <th></th>\n",
              "      <th></th>\n",
              "      <th></th>\n",
              "      <th></th>\n",
              "      <th></th>\n",
              "      <th></th>\n",
              "      <th></th>\n",
              "      <th></th>\n",
              "      <th></th>\n",
              "      <th></th>\n",
              "      <th></th>\n",
              "      <th></th>\n",
              "      <th></th>\n",
              "      <th></th>\n",
              "      <th></th>\n",
              "      <th></th>\n",
              "      <th></th>\n",
              "      <th></th>\n",
              "      <th></th>\n",
              "      <th></th>\n",
              "      <th></th>\n",
              "      <th></th>\n",
              "      <th></th>\n",
              "      <th></th>\n",
              "      <th></th>\n",
              "      <th></th>\n",
              "      <th></th>\n",
              "      <th></th>\n",
              "      <th></th>\n",
              "      <th></th>\n",
              "      <th></th>\n",
              "      <th></th>\n",
              "      <th></th>\n",
              "      <th></th>\n",
              "      <th></th>\n",
              "      <th></th>\n",
              "      <th></th>\n",
              "      <th></th>\n",
              "      <th></th>\n",
              "      <th></th>\n",
              "      <th></th>\n",
              "      <th></th>\n",
              "      <th></th>\n",
              "      <th></th>\n",
              "      <th></th>\n",
              "      <th></th>\n",
              "      <th></th>\n",
              "      <th></th>\n",
              "      <th></th>\n",
              "      <th></th>\n",
              "      <th></th>\n",
              "      <th></th>\n",
              "      <th></th>\n",
              "      <th></th>\n",
              "      <th></th>\n",
              "      <th></th>\n",
              "      <th></th>\n",
              "      <th></th>\n",
              "      <th></th>\n",
              "      <th></th>\n",
              "      <th></th>\n",
              "      <th></th>\n",
              "      <th></th>\n",
              "      <th></th>\n",
              "      <th></th>\n",
              "      <th></th>\n",
              "      <th></th>\n",
              "      <th></th>\n",
              "      <th></th>\n",
              "    </tr>\n",
              "  </thead>\n",
              "  <tbody>\n",
              "    <tr>\n",
              "      <th>0972683275</th>\n",
              "      <td>0</td>\n",
              "      <td>0</td>\n",
              "      <td>5</td>\n",
              "      <td>4</td>\n",
              "      <td>0</td>\n",
              "      <td>0</td>\n",
              "      <td>0</td>\n",
              "      <td>0</td>\n",
              "      <td>0</td>\n",
              "      <td>0</td>\n",
              "      <td>0</td>\n",
              "      <td>0</td>\n",
              "      <td>0</td>\n",
              "      <td>0</td>\n",
              "      <td>0</td>\n",
              "      <td>0</td>\n",
              "      <td>0</td>\n",
              "      <td>0</td>\n",
              "      <td>0</td>\n",
              "      <td>0</td>\n",
              "      <td>0</td>\n",
              "      <td>0</td>\n",
              "      <td>5</td>\n",
              "      <td>0</td>\n",
              "      <td>0</td>\n",
              "      <td>0</td>\n",
              "      <td>0</td>\n",
              "      <td>0</td>\n",
              "      <td>5</td>\n",
              "      <td>0</td>\n",
              "      <td>4</td>\n",
              "      <td>0</td>\n",
              "      <td>0</td>\n",
              "      <td>0</td>\n",
              "      <td>5</td>\n",
              "      <td>0</td>\n",
              "      <td>0</td>\n",
              "      <td>0</td>\n",
              "      <td>0</td>\n",
              "      <td>0</td>\n",
              "      <td>...</td>\n",
              "      <td>0</td>\n",
              "      <td>0</td>\n",
              "      <td>0</td>\n",
              "      <td>5</td>\n",
              "      <td>0</td>\n",
              "      <td>0</td>\n",
              "      <td>0</td>\n",
              "      <td>0</td>\n",
              "      <td>0</td>\n",
              "      <td>5</td>\n",
              "      <td>0</td>\n",
              "      <td>0</td>\n",
              "      <td>0</td>\n",
              "      <td>0</td>\n",
              "      <td>0</td>\n",
              "      <td>5</td>\n",
              "      <td>0</td>\n",
              "      <td>0</td>\n",
              "      <td>0</td>\n",
              "      <td>0</td>\n",
              "      <td>0</td>\n",
              "      <td>0</td>\n",
              "      <td>0</td>\n",
              "      <td>0</td>\n",
              "      <td>0</td>\n",
              "      <td>0</td>\n",
              "      <td>0</td>\n",
              "      <td>5</td>\n",
              "      <td>0</td>\n",
              "      <td>0</td>\n",
              "      <td>0</td>\n",
              "      <td>0</td>\n",
              "      <td>0</td>\n",
              "      <td>0</td>\n",
              "      <td>0</td>\n",
              "      <td>0</td>\n",
              "      <td>0</td>\n",
              "      <td>0</td>\n",
              "      <td>0</td>\n",
              "      <td>0</td>\n",
              "    </tr>\n",
              "    <tr>\n",
              "      <th>1400501466</th>\n",
              "      <td>0</td>\n",
              "      <td>0</td>\n",
              "      <td>0</td>\n",
              "      <td>0</td>\n",
              "      <td>0</td>\n",
              "      <td>0</td>\n",
              "      <td>0</td>\n",
              "      <td>0</td>\n",
              "      <td>0</td>\n",
              "      <td>0</td>\n",
              "      <td>0</td>\n",
              "      <td>0</td>\n",
              "      <td>0</td>\n",
              "      <td>0</td>\n",
              "      <td>0</td>\n",
              "      <td>0</td>\n",
              "      <td>0</td>\n",
              "      <td>0</td>\n",
              "      <td>0</td>\n",
              "      <td>0</td>\n",
              "      <td>0</td>\n",
              "      <td>0</td>\n",
              "      <td>0</td>\n",
              "      <td>0</td>\n",
              "      <td>0</td>\n",
              "      <td>0</td>\n",
              "      <td>0</td>\n",
              "      <td>0</td>\n",
              "      <td>0</td>\n",
              "      <td>0</td>\n",
              "      <td>0</td>\n",
              "      <td>5</td>\n",
              "      <td>5</td>\n",
              "      <td>0</td>\n",
              "      <td>0</td>\n",
              "      <td>0</td>\n",
              "      <td>0</td>\n",
              "      <td>0</td>\n",
              "      <td>0</td>\n",
              "      <td>0</td>\n",
              "      <td>...</td>\n",
              "      <td>0</td>\n",
              "      <td>0</td>\n",
              "      <td>0</td>\n",
              "      <td>0</td>\n",
              "      <td>0</td>\n",
              "      <td>0</td>\n",
              "      <td>0</td>\n",
              "      <td>0</td>\n",
              "      <td>0</td>\n",
              "      <td>0</td>\n",
              "      <td>0</td>\n",
              "      <td>0</td>\n",
              "      <td>0</td>\n",
              "      <td>0</td>\n",
              "      <td>0</td>\n",
              "      <td>0</td>\n",
              "      <td>0</td>\n",
              "      <td>0</td>\n",
              "      <td>0</td>\n",
              "      <td>0</td>\n",
              "      <td>0</td>\n",
              "      <td>0</td>\n",
              "      <td>3</td>\n",
              "      <td>0</td>\n",
              "      <td>0</td>\n",
              "      <td>0</td>\n",
              "      <td>0</td>\n",
              "      <td>0</td>\n",
              "      <td>0</td>\n",
              "      <td>0</td>\n",
              "      <td>0</td>\n",
              "      <td>0</td>\n",
              "      <td>0</td>\n",
              "      <td>0</td>\n",
              "      <td>0</td>\n",
              "      <td>0</td>\n",
              "      <td>0</td>\n",
              "      <td>0</td>\n",
              "      <td>0</td>\n",
              "      <td>0</td>\n",
              "    </tr>\n",
              "    <tr>\n",
              "      <th>1400501520</th>\n",
              "      <td>0</td>\n",
              "      <td>0</td>\n",
              "      <td>0</td>\n",
              "      <td>0</td>\n",
              "      <td>0</td>\n",
              "      <td>0</td>\n",
              "      <td>0</td>\n",
              "      <td>0</td>\n",
              "      <td>0</td>\n",
              "      <td>3</td>\n",
              "      <td>0</td>\n",
              "      <td>0</td>\n",
              "      <td>0</td>\n",
              "      <td>0</td>\n",
              "      <td>0</td>\n",
              "      <td>0</td>\n",
              "      <td>0</td>\n",
              "      <td>0</td>\n",
              "      <td>0</td>\n",
              "      <td>0</td>\n",
              "      <td>0</td>\n",
              "      <td>0</td>\n",
              "      <td>0</td>\n",
              "      <td>0</td>\n",
              "      <td>0</td>\n",
              "      <td>0</td>\n",
              "      <td>0</td>\n",
              "      <td>0</td>\n",
              "      <td>0</td>\n",
              "      <td>0</td>\n",
              "      <td>0</td>\n",
              "      <td>0</td>\n",
              "      <td>0</td>\n",
              "      <td>0</td>\n",
              "      <td>0</td>\n",
              "      <td>0</td>\n",
              "      <td>0</td>\n",
              "      <td>0</td>\n",
              "      <td>0</td>\n",
              "      <td>0</td>\n",
              "      <td>...</td>\n",
              "      <td>0</td>\n",
              "      <td>0</td>\n",
              "      <td>0</td>\n",
              "      <td>0</td>\n",
              "      <td>0</td>\n",
              "      <td>0</td>\n",
              "      <td>0</td>\n",
              "      <td>0</td>\n",
              "      <td>0</td>\n",
              "      <td>0</td>\n",
              "      <td>0</td>\n",
              "      <td>0</td>\n",
              "      <td>0</td>\n",
              "      <td>0</td>\n",
              "      <td>0</td>\n",
              "      <td>0</td>\n",
              "      <td>0</td>\n",
              "      <td>0</td>\n",
              "      <td>0</td>\n",
              "      <td>0</td>\n",
              "      <td>0</td>\n",
              "      <td>0</td>\n",
              "      <td>0</td>\n",
              "      <td>0</td>\n",
              "      <td>0</td>\n",
              "      <td>0</td>\n",
              "      <td>0</td>\n",
              "      <td>0</td>\n",
              "      <td>0</td>\n",
              "      <td>0</td>\n",
              "      <td>0</td>\n",
              "      <td>0</td>\n",
              "      <td>0</td>\n",
              "      <td>0</td>\n",
              "      <td>0</td>\n",
              "      <td>0</td>\n",
              "      <td>0</td>\n",
              "      <td>0</td>\n",
              "      <td>0</td>\n",
              "      <td>0</td>\n",
              "    </tr>\n",
              "    <tr>\n",
              "      <th>1400501776</th>\n",
              "      <td>0</td>\n",
              "      <td>0</td>\n",
              "      <td>0</td>\n",
              "      <td>0</td>\n",
              "      <td>0</td>\n",
              "      <td>0</td>\n",
              "      <td>0</td>\n",
              "      <td>0</td>\n",
              "      <td>0</td>\n",
              "      <td>0</td>\n",
              "      <td>0</td>\n",
              "      <td>0</td>\n",
              "      <td>0</td>\n",
              "      <td>0</td>\n",
              "      <td>0</td>\n",
              "      <td>0</td>\n",
              "      <td>0</td>\n",
              "      <td>0</td>\n",
              "      <td>0</td>\n",
              "      <td>0</td>\n",
              "      <td>0</td>\n",
              "      <td>0</td>\n",
              "      <td>0</td>\n",
              "      <td>0</td>\n",
              "      <td>0</td>\n",
              "      <td>0</td>\n",
              "      <td>0</td>\n",
              "      <td>0</td>\n",
              "      <td>0</td>\n",
              "      <td>0</td>\n",
              "      <td>0</td>\n",
              "      <td>0</td>\n",
              "      <td>0</td>\n",
              "      <td>0</td>\n",
              "      <td>0</td>\n",
              "      <td>0</td>\n",
              "      <td>0</td>\n",
              "      <td>0</td>\n",
              "      <td>0</td>\n",
              "      <td>0</td>\n",
              "      <td>...</td>\n",
              "      <td>0</td>\n",
              "      <td>0</td>\n",
              "      <td>0</td>\n",
              "      <td>0</td>\n",
              "      <td>0</td>\n",
              "      <td>0</td>\n",
              "      <td>0</td>\n",
              "      <td>0</td>\n",
              "      <td>0</td>\n",
              "      <td>0</td>\n",
              "      <td>0</td>\n",
              "      <td>0</td>\n",
              "      <td>0</td>\n",
              "      <td>0</td>\n",
              "      <td>0</td>\n",
              "      <td>0</td>\n",
              "      <td>0</td>\n",
              "      <td>0</td>\n",
              "      <td>0</td>\n",
              "      <td>0</td>\n",
              "      <td>0</td>\n",
              "      <td>4</td>\n",
              "      <td>0</td>\n",
              "      <td>0</td>\n",
              "      <td>0</td>\n",
              "      <td>0</td>\n",
              "      <td>0</td>\n",
              "      <td>0</td>\n",
              "      <td>0</td>\n",
              "      <td>0</td>\n",
              "      <td>0</td>\n",
              "      <td>0</td>\n",
              "      <td>0</td>\n",
              "      <td>0</td>\n",
              "      <td>0</td>\n",
              "      <td>0</td>\n",
              "      <td>0</td>\n",
              "      <td>0</td>\n",
              "      <td>1</td>\n",
              "      <td>0</td>\n",
              "    </tr>\n",
              "    <tr>\n",
              "      <th>1400532620</th>\n",
              "      <td>0</td>\n",
              "      <td>0</td>\n",
              "      <td>0</td>\n",
              "      <td>0</td>\n",
              "      <td>0</td>\n",
              "      <td>0</td>\n",
              "      <td>0</td>\n",
              "      <td>0</td>\n",
              "      <td>0</td>\n",
              "      <td>0</td>\n",
              "      <td>0</td>\n",
              "      <td>0</td>\n",
              "      <td>0</td>\n",
              "      <td>0</td>\n",
              "      <td>0</td>\n",
              "      <td>5</td>\n",
              "      <td>0</td>\n",
              "      <td>0</td>\n",
              "      <td>0</td>\n",
              "      <td>0</td>\n",
              "      <td>0</td>\n",
              "      <td>0</td>\n",
              "      <td>0</td>\n",
              "      <td>0</td>\n",
              "      <td>0</td>\n",
              "      <td>0</td>\n",
              "      <td>0</td>\n",
              "      <td>0</td>\n",
              "      <td>0</td>\n",
              "      <td>0</td>\n",
              "      <td>0</td>\n",
              "      <td>0</td>\n",
              "      <td>0</td>\n",
              "      <td>0</td>\n",
              "      <td>0</td>\n",
              "      <td>0</td>\n",
              "      <td>0</td>\n",
              "      <td>0</td>\n",
              "      <td>5</td>\n",
              "      <td>0</td>\n",
              "      <td>...</td>\n",
              "      <td>0</td>\n",
              "      <td>0</td>\n",
              "      <td>0</td>\n",
              "      <td>0</td>\n",
              "      <td>0</td>\n",
              "      <td>0</td>\n",
              "      <td>0</td>\n",
              "      <td>0</td>\n",
              "      <td>0</td>\n",
              "      <td>0</td>\n",
              "      <td>0</td>\n",
              "      <td>0</td>\n",
              "      <td>0</td>\n",
              "      <td>0</td>\n",
              "      <td>0</td>\n",
              "      <td>0</td>\n",
              "      <td>0</td>\n",
              "      <td>0</td>\n",
              "      <td>0</td>\n",
              "      <td>0</td>\n",
              "      <td>0</td>\n",
              "      <td>0</td>\n",
              "      <td>0</td>\n",
              "      <td>0</td>\n",
              "      <td>0</td>\n",
              "      <td>0</td>\n",
              "      <td>0</td>\n",
              "      <td>0</td>\n",
              "      <td>0</td>\n",
              "      <td>0</td>\n",
              "      <td>0</td>\n",
              "      <td>0</td>\n",
              "      <td>0</td>\n",
              "      <td>0</td>\n",
              "      <td>0</td>\n",
              "      <td>0</td>\n",
              "      <td>0</td>\n",
              "      <td>0</td>\n",
              "      <td>0</td>\n",
              "      <td>0</td>\n",
              "    </tr>\n",
              "  </tbody>\n",
              "</table>\n",
              "<p>5 rows × 9832 columns</p>\n",
              "</div>"
            ],
            "text/plain": [
              "userId      A01852072Z7B68UHLI5UG  ...  AZZST8OYL5P4Q\n",
              "productId                          ...               \n",
              "0972683275                      0  ...              0\n",
              "1400501466                      0  ...              0\n",
              "1400501520                      0  ...              0\n",
              "1400501776                      0  ...              0\n",
              "1400532620                      0  ...              0\n",
              "\n",
              "[5 rows x 9832 columns]"
            ]
          },
          "metadata": {},
          "execution_count": 90
        }
      ]
    },
    {
      "cell_type": "code",
      "metadata": {
        "colab": {
          "base_uri": "https://localhost:8080/"
        },
        "id": "Sfg5fimbxZ3k",
        "outputId": "ece3c587-0258-4d52-92d3-119a85c15c2b"
      },
      "source": [
        "X.shape"
      ],
      "execution_count": 91,
      "outputs": [
        {
          "output_type": "execute_result",
          "data": {
            "text/plain": [
              "(76, 9832)"
            ]
          },
          "metadata": {},
          "execution_count": 91
        }
      ]
    },
    {
      "cell_type": "code",
      "metadata": {
        "colab": {
          "base_uri": "https://localhost:8080/"
        },
        "id": "XaTmNMiZxcy9",
        "outputId": "483afef7-4a13-42cc-a8c8-68afb5b0615b"
      },
      "source": [
        "X.index"
      ],
      "execution_count": 92,
      "outputs": [
        {
          "output_type": "execute_result",
          "data": {
            "text/plain": [
              "Index(['0972683275', '1400501466', '1400501520', '1400501776', '1400532620',\n",
              "       '1400532655', '140053271X', '1400532736', '1400599997', '1400698987',\n",
              "       '3744295508', '6301977173', '7214047977', '8862935293', '9573212919',\n",
              "       '9575871979', '9625993428', '9888002198', '9966694544', '9983891212',\n",
              "       '9984984354', '9985511476', 'B000001OM4', 'B000001OM5', 'B000001OMI',\n",
              "       'B000001ON6', 'B00000DM9W', 'B00000IGBF', 'B00000J05A', 'B00000J061',\n",
              "       'B00000J08Q', 'B00000J0D2', 'B00000J0D5', 'B00000J0D8', 'B00000J1EJ',\n",
              "       'B00000J1EP', 'B00000J1EQ', 'B00000J1F3', 'B00000J1GA', 'B00000J1QK',\n",
              "       'B00000J1QR', 'B00000J1SC', 'B00000J1TX', 'B00000J1U8', 'B00000J1UQ',\n",
              "       'B00000J1V3', 'B00000J1V5', 'B00000J3NF', 'B00000J3Q7', 'B00000J3UJ',\n",
              "       'B00000J434', 'B00000J4EY', 'B00000J4FS', 'B00000J4GE', 'B00000J6WY',\n",
              "       'B00000JBAT', 'B00000JBHP', 'B00000JBPB', 'B00000JCT8', 'B00000JCTO',\n",
              "       'B00000JD34', 'B00000JDF5', 'B00000JDF6', 'B00000JDHV', 'B00000JFE3',\n",
              "       'B00000JFIF', 'B00000JFMK', 'B00000JHWX', 'B00000JI4F', 'B00000JII6',\n",
              "       'B00000JMUG', 'B00000JPPI', 'B00000JSGF', 'B00000JYLO', 'B00000JYWQ',\n",
              "       'B00000K135'],\n",
              "      dtype='object', name='productId')"
            ]
          },
          "metadata": {},
          "execution_count": 92
        }
      ]
    },
    {
      "cell_type": "code",
      "metadata": {
        "id": "APTgRlKSxdh4"
      },
      "source": [
        "X1=X"
      ],
      "execution_count": 93,
      "outputs": []
    },
    {
      "cell_type": "code",
      "metadata": {
        "colab": {
          "base_uri": "https://localhost:8080/"
        },
        "id": "1wDWIwwpxgFj",
        "outputId": "ff7d82f2-2afb-4207-ee8d-c00879cab27e"
      },
      "source": [
        "from sklearn.decomposition import TruncatedSVD\n",
        "SVD=TruncatedSVD(n_components=10)\n",
        "decomposed_matrix=SVD.fit_transform(X)\n",
        "decomposed_matrix.shape"
      ],
      "execution_count": 94,
      "outputs": [
        {
          "output_type": "execute_result",
          "data": {
            "text/plain": [
              "(76, 10)"
            ]
          },
          "metadata": {},
          "execution_count": 94
        }
      ]
    },
    {
      "cell_type": "code",
      "metadata": {
        "colab": {
          "base_uri": "https://localhost:8080/"
        },
        "id": "BdEauPVoxprv",
        "outputId": "2d8e364b-abc1-4f2e-c3cf-9725efa52b92"
      },
      "source": [
        "decomposed_matrix"
      ],
      "execution_count": 95,
      "outputs": [
        {
          "output_type": "execute_result",
          "data": {
            "text/plain": [
              "array([[ 1.48104508e+02, -1.54573104e-01,  2.45061187e-02,\n",
              "        -4.34207621e-04, -1.34153169e-01,  9.27229930e-05,\n",
              "         4.60073556e-02,  1.68806709e-04,  1.93311949e-03,\n",
              "        -8.20991744e-02],\n",
              "       [ 6.83303134e-04,  1.28436479e+00,  1.48450667e+00,\n",
              "         1.95550819e-01,  4.84144975e-04,  5.57133200e-03,\n",
              "         2.56299349e-03,  2.94343068e-02,  6.14332665e+01,\n",
              "         6.96133436e-01],\n",
              "       [ 6.91517184e-06,  9.79181618e-02,  3.14425390e-01,\n",
              "         6.63231391e-03, -7.25756355e-03, -2.78652591e-02,\n",
              "         3.15374320e-02, -1.01246003e-01,  1.79857648e+00,\n",
              "         7.60196737e-02],\n",
              "       [ 5.68495289e-04,  7.51666339e-01,  5.44445963e-01,\n",
              "         4.05093174e-02, -5.21825171e-02,  3.47743861e-03,\n",
              "         1.05219823e-01,  1.09425923e-01,  4.16892583e+00,\n",
              "        -9.02979443e-01],\n",
              "       [ 4.88478637e-04,  8.06199141e-01,  1.03373317e+00,\n",
              "        -4.01413962e-02,  6.89595797e-02,  4.98969388e-02,\n",
              "        -1.21106410e-01,  3.36903387e-03,  3.81517267e-02,\n",
              "         1.58148154e+00],\n",
              "       [ 2.62252083e-01,  8.72493070e+01, -1.42253904e+01,\n",
              "        -1.28445498e-02,  5.29859807e-03, -5.98605502e-04,\n",
              "        -7.00459160e-03, -2.72889884e-03, -7.78633096e-01,\n",
              "        -1.05826834e-02],\n",
              "       [ 1.02246354e-03,  1.45214928e+01,  8.52270657e+01,\n",
              "        -4.99337672e-02, -3.89275941e-02,  4.51603212e-04,\n",
              "        -1.06397693e-02, -1.37089519e-03, -1.25399969e+00,\n",
              "        -2.03124921e-02],\n",
              "       [-7.41304453e-06,  7.20344337e-02,  4.02310539e-01,\n",
              "        -1.30076074e-03, -2.22408341e-03, -1.69893329e-02,\n",
              "         3.08419091e-03, -4.00778031e-02,  6.51629451e-01,\n",
              "        -2.92132294e-03],\n",
              "       [ 5.82827964e-04,  7.73762341e-01, -8.30804331e-02,\n",
              "        -3.45446796e-03,  1.58596732e-02,  2.18648584e-02,\n",
              "        -1.86070645e-02,  2.26338613e-02,  3.03486610e+00,\n",
              "         7.54172337e-01],\n",
              "       [ 2.60989416e-04,  5.49332558e-01,  7.19875122e-01,\n",
              "         3.84992100e-02,  8.44251653e-02, -4.48552437e-02,\n",
              "         5.15709944e-01,  1.96560384e-01,  2.68539625e+00,\n",
              "        -1.30565548e+00],\n",
              "       [ 3.18729194e-06, -1.85996620e-03,  1.63690187e-03,\n",
              "        -1.89391320e-04,  1.39669048e-03,  1.43375221e-03,\n",
              "        -1.75825418e-03, -2.47258483e-04,  2.80943360e-02,\n",
              "        -4.97516379e-02],\n",
              "       [ 2.03618913e-06,  1.32868404e-04,  2.16322380e-03,\n",
              "        -2.12179458e-03,  1.51961849e-03,  2.55644935e-03,\n",
              "        -5.88593631e-03,  9.58628375e-03, -3.78995672e-02,\n",
              "        -4.29581861e-02],\n",
              "       [-5.93702688e-05,  5.95993109e-03, -3.26548046e-02,\n",
              "        -2.01239205e-02,  2.98433027e-04, -1.38291173e-01,\n",
              "         3.15407529e-02, -4.96808314e-01,  5.21301088e-01,\n",
              "         7.89817483e-02],\n",
              "       [-6.31618408e-06, -4.18549538e-03, -1.56051559e-03,\n",
              "         1.52097684e-03,  1.04190305e-02, -4.04281022e-03,\n",
              "         6.60873629e-04, -2.28453197e-02,  2.10119050e-01,\n",
              "         3.04143280e-01],\n",
              "       [ 3.82357363e-05, -1.05029126e-02,  4.28490479e-02,\n",
              "         1.57544368e-02, -3.89359749e-02, -3.58364717e-02,\n",
              "         6.82634048e-02, -1.41732816e-01, -1.52077871e-01,\n",
              "        -2.17928425e+00],\n",
              "       [-4.14434517e-05,  3.84517234e-03, -2.23054997e-02,\n",
              "         7.18577104e-03,  1.21936650e-02,  1.84496309e-04,\n",
              "         2.78277594e-02,  2.31349426e-02,  2.97771581e-01,\n",
              "         2.59281406e-01],\n",
              "       [-3.81435371e-06, -5.02859809e-03,  4.10059446e-03,\n",
              "         1.80706785e-03, -1.95350383e-03, -6.18158069e-03,\n",
              "        -1.27763445e-02, -3.96301234e-02,  1.02544259e-01,\n",
              "         1.92613681e-01],\n",
              "       [ 2.67767938e-06, -6.88474017e-04,  1.72779515e-03,\n",
              "         8.69219778e-04,  3.93143891e-04,  1.89518649e-03,\n",
              "         1.75974120e-03,  3.88302831e-03, -2.45120836e-02,\n",
              "        -4.14447132e-02],\n",
              "       [ 2.95242867e-07, -9.09559474e-04,  5.08718874e-04,\n",
              "         7.50158834e-04, -1.60912933e-04,  1.54266200e-03,\n",
              "        -1.28618491e-05, -2.18442416e-03, -3.73304116e-02,\n",
              "         3.69430430e-02],\n",
              "       [ 2.02700820e-01, -3.83640259e-03,  1.18382066e-02,\n",
              "         1.26634684e-02, -2.53965259e-02, -7.98163591e-03,\n",
              "         3.84869238e-02,  7.08835757e-02, -6.73246690e-01,\n",
              "         6.03277801e+01],\n",
              "       [ 9.85782911e-07,  7.45792451e-05,  5.19518635e-04,\n",
              "         4.54602719e-05,  2.55394822e-04, -6.52007265e-04,\n",
              "         6.63883142e-04,  1.49047116e-03, -9.79677289e-03,\n",
              "        -1.11554272e-02],\n",
              "       [ 1.29945024e-05, -2.93941943e-04,  5.50524613e-03,\n",
              "        -1.89227474e-03,  4.59138089e-03,  3.89509054e-03,\n",
              "        -6.68141777e-03,  5.41211217e-02, -1.11936364e-01,\n",
              "        -6.05271940e-02],\n",
              "       [ 1.30093978e-05,  2.18728015e-04,  5.02830865e-03,\n",
              "        -4.64599444e-03,  8.02006913e-03, -6.66542676e-03,\n",
              "        -1.05231047e-02, -4.04290846e-02, -2.02109355e-02,\n",
              "         7.96103757e-02],\n",
              "       [ 1.86468528e-01, -2.21249739e-02,  4.88905235e-03,\n",
              "         4.68094684e-03,  3.88130957e-01, -1.90388202e-03,\n",
              "        -1.39954853e-01, -2.05715593e-01,  4.48545222e-02,\n",
              "        -3.66053016e-01],\n",
              "       [-6.89290326e-07,  2.37256980e-04,  7.94507993e-04,\n",
              "         6.69339049e-03, -1.87358304e-04,  7.05112366e-04,\n",
              "         1.67959731e-04,  4.39422520e-01,  1.57809399e-02,\n",
              "         1.08995825e-03],\n",
              "       [ 4.03041991e-04,  3.03263355e-04, -1.11516989e-02,\n",
              "        -6.83821236e-03,  3.71074461e-02,  6.34937557e-01,\n",
              "        -3.47008566e-02,  6.06447301e-02,  6.93168684e-02,\n",
              "         8.33676346e-01],\n",
              "       [ 4.16098169e-07,  1.85496558e-02,  4.41485936e-02,\n",
              "         8.50822425e+01, -2.73563998e-01, -2.42919422e-02,\n",
              "         2.33205508e-03, -1.37190491e+00, -1.43799585e-01,\n",
              "        -4.46730768e-03],\n",
              "       [ 2.74389905e-06, -2.75045343e-04,  1.52734006e-03,\n",
              "         2.17163329e-04,  1.09563927e-03, -1.04152359e-04,\n",
              "        -2.21694948e-04,  6.67369906e-04,  1.42114036e-04,\n",
              "         3.39958611e-03],\n",
              "       [ 7.53361837e-07, -2.39458948e-04,  8.80288256e-04,\n",
              "         2.95931504e-04,  3.85996250e-04, -4.28328125e-04,\n",
              "         5.66473568e-03,  1.01810594e-03, -8.60383517e-03,\n",
              "        -2.03056932e-02],\n",
              "       [ 6.92242226e-07,  8.02673205e-04, -1.31999835e-03,\n",
              "         1.69548762e+00, -1.62984791e-03,  3.61761128e-01,\n",
              "        -4.35693741e-03,  6.87967631e+01, -3.10644596e-02,\n",
              "        -4.25206849e-02],\n",
              "       [ 1.54834085e-06, -1.98728290e-04,  6.13956038e-04,\n",
              "        -1.10595924e-04,  5.75980341e-04,  8.91121300e-04,\n",
              "        -1.20720483e-03,  5.71489503e-03, -1.41496214e-02,\n",
              "         4.77949652e-03],\n",
              "       [ 4.34297994e-08,  2.31036453e-04,  1.07174878e-04,\n",
              "        -4.59585340e-05, -2.38655732e-04, -5.24107525e-06,\n",
              "        -3.83589759e-04,  1.59886082e-03, -1.06275207e-04,\n",
              "         8.81735790e-04],\n",
              "       [-8.67005231e-07,  2.22542987e-04, -4.60089341e-04,\n",
              "         1.36375876e-04, -3.30728744e-04, -1.10460132e-03,\n",
              "         7.21732873e-04, -7.14317945e-03,  6.32093480e-03,\n",
              "         6.60952720e-03],\n",
              "       [ 1.30993551e-09, -3.94897296e-07, -1.05573255e-06,\n",
              "         4.49501736e-07, -5.43825942e-06,  6.52399998e-06,\n",
              "        -2.52723401e-06, -9.39858187e-06,  3.04725330e-05,\n",
              "        -7.74637251e-05],\n",
              "       [-8.36144592e-07,  5.53034863e-04, -1.30115485e-04,\n",
              "        -5.86489755e-04, -1.82285298e-04,  4.12740784e-04,\n",
              "        -1.27067392e-03,  4.35280459e-03,  1.27531774e-02,\n",
              "        -2.01857338e-02],\n",
              "       [-6.81358720e-06,  4.71297145e-03, -5.56013694e-03,\n",
              "         2.20511445e-03, -5.72643860e-04,  1.70271180e-03,\n",
              "         1.41026381e-02,  5.75584552e-03,  7.01717374e-02,\n",
              "        -9.46738908e-02],\n",
              "       [ 4.41083619e-05, -9.16720573e-03,  5.24178476e-02,\n",
              "         2.70966847e-02, -5.98312480e-02, -7.87759325e-03,\n",
              "         7.36087015e-02,  8.87877068e-02, -5.07328500e-01,\n",
              "        -1.07341972e+00],\n",
              "       [ 2.42085106e-06,  4.82902329e-04,  1.17975725e-03,\n",
              "         8.96487113e-04, -9.52597543e-04,  6.83824156e-03,\n",
              "         3.65927329e-03,  4.27204907e-03, -6.76959996e-03,\n",
              "        -2.34553929e-02],\n",
              "       [ 2.33419544e-04,  1.06226739e-04, -8.85496848e-04,\n",
              "         4.34093345e-04,  2.43474316e-01,  1.31603152e-03,\n",
              "        -1.11571466e-01,  2.11234064e-04,  2.88311884e-03,\n",
              "         1.35207162e-02],\n",
              "       [ 1.68164171e-05, -1.48354454e-02,  1.16496344e-02,\n",
              "        -1.10285926e-02,  2.08171055e-02,  1.96641263e-02,\n",
              "        -4.87058882e-02, -4.74128023e-02,  2.56123151e-01,\n",
              "         5.01654524e-01],\n",
              "       [ 2.30013364e-04, -3.33094567e-03, -1.53928711e-03,\n",
              "         9.59230144e-04,  1.11118110e-01, -1.84853121e-03,\n",
              "         3.13757140e-01, -3.26683718e-02,  1.02559302e-01,\n",
              "         1.92410765e-02],\n",
              "       [ 9.38716269e-05, -1.05434652e-02,  4.52835742e-02,\n",
              "        -1.34497826e-02, -1.91940989e-03, -1.67403809e-02,\n",
              "         1.42721224e-03, -3.04025550e-01, -2.56622951e-01,\n",
              "         1.67770129e-01],\n",
              "       [-9.74874817e-05, -1.17877874e-02,  1.73048801e-02,\n",
              "         7.23823153e-02, -9.22618866e-02,  4.77817360e-03,\n",
              "         1.19000712e-01,  6.45843253e-01, -3.23677481e-01,\n",
              "        -2.04241480e+00],\n",
              "       [ 1.37646136e-06, -6.48906942e-04,  9.03612250e-04,\n",
              "         3.19187626e-04, -3.08609994e-04,  5.35546684e-04,\n",
              "        -3.75354333e-04,  2.25038869e-02, -1.73163249e-02,\n",
              "        -1.24596957e-03],\n",
              "       [ 1.15130233e-04, -1.80369432e-02,  8.47104398e-02,\n",
              "         7.90645880e-03, -3.21702978e-02, -5.59333444e-03,\n",
              "        -1.63587831e-02,  1.57426209e-01, -1.06822615e+00,\n",
              "        -2.44445072e-01],\n",
              "       [ 3.25880180e-06,  2.30229472e-03, -1.12330077e-02,\n",
              "         2.93997551e-03,  1.28530066e-02, -2.03518891e-02,\n",
              "         2.25608583e-02, -3.48406315e-02,  5.18684942e-01,\n",
              "         5.43698523e-02],\n",
              "       [ 2.49016676e-01, -2.50287148e-03,  3.45948309e-02,\n",
              "         2.54453193e-01,  7.85306742e+01, -4.96530324e-02,\n",
              "        -2.94124772e+01, -1.98554588e-03,  3.11747060e-03,\n",
              "        -3.93567354e-04],\n",
              "       [-2.64090060e-06,  1.93871701e-03,  1.26312581e-03,\n",
              "        -3.23491075e-04,  2.09646348e-03, -7.55583976e-03,\n",
              "         1.55165941e-03, -2.60280988e-02,  3.34029787e-02,\n",
              "        -3.24661453e-02],\n",
              "       [ 6.24936654e-06, -3.72676354e-04,  1.00189707e-03,\n",
              "         6.49692461e-03,  1.95338426e-03, -4.80822698e-04,\n",
              "         3.87374370e-03,  4.20663550e-01, -2.77187537e-02,\n",
              "        -7.03513001e-02],\n",
              "       [ 1.02832293e-06, -1.83559989e-04, -1.20962425e-04,\n",
              "         8.22588753e-05, -3.95169544e-04,  3.46530862e-04,\n",
              "         3.22795954e-04,  2.52093227e-03, -5.93556911e-03,\n",
              "         1.40185803e-02],\n",
              "       [ 2.32810770e-05, -4.73895063e-03,  1.18119487e-02,\n",
              "         3.75154362e-03,  1.14035945e-02,  4.00442785e-03,\n",
              "         1.09918423e-02,  3.08900023e-02,  6.39850783e-04,\n",
              "         4.87766239e-02],\n",
              "       [-3.42692791e-07, -2.02821522e-03, -5.43021459e-03,\n",
              "         4.09765124e-03,  3.55929707e-04,  2.25656066e-03,\n",
              "         1.44277168e-02, -3.19642970e-02,  2.94677970e-02,\n",
              "         1.28967912e-01],\n",
              "       [ 1.11566683e-04, -2.18370153e-02,  4.84005285e-02,\n",
              "         1.59358762e-02,  5.45907550e-02,  2.49136027e-02,\n",
              "         2.62535066e-02,  1.10263687e-01,  1.88227481e-02,\n",
              "         3.83802812e-01],\n",
              "       [ 2.13108615e-04,  5.32398752e-05,  1.28279303e-02,\n",
              "        -2.13664481e-03, -3.01446843e-03,  1.44927604e-02,\n",
              "         3.60998140e-03,  6.67002421e-02, -7.29018017e-01,\n",
              "        -2.58538981e-01],\n",
              "       [ 9.74965887e-06, -3.10208609e-03,  6.86116255e-03,\n",
              "         2.07575521e-03, -2.41752922e-03,  2.67629654e-03,\n",
              "        -1.09771789e-02,  5.38355691e-04, -1.84183780e-02,\n",
              "         4.31726384e-02],\n",
              "       [-8.16911217e-06,  8.87656083e-03, -1.34240072e-03,\n",
              "         6.29399975e-03,  5.63811308e-04, -3.38710390e-02,\n",
              "         1.03447448e-02, -9.13684012e-02, -1.79850211e-01,\n",
              "        -3.33945029e-01],\n",
              "       [ 8.12871869e-07,  1.73357836e-04,  7.74351525e-04,\n",
              "        -3.85939438e-04, -4.01951141e-04, -2.90814557e-04,\n",
              "        -2.12149091e-03, -2.06921831e-03,  7.84430325e-03,\n",
              "        -2.79441308e-02],\n",
              "       [ 3.44264242e-07,  4.17188260e-05,  1.63748538e-04,\n",
              "         5.15392154e-03,  2.39624920e-04,  1.26030857e-03,\n",
              "        -5.16356283e-04,  3.61548484e-01,  8.82125798e-05,\n",
              "        -4.82928090e-03],\n",
              "       [-7.12218629e-07, -2.71156304e-04, -6.14838547e-04,\n",
              "         9.27884147e-04,  3.99703261e-04, -3.95443948e-04,\n",
              "         2.39387753e-03,  6.55869704e-03,  3.97529403e-03,\n",
              "         4.03939344e-02],\n",
              "       [-7.46367293e-06, -3.38656395e-04, -5.19326120e-03,\n",
              "         2.83587823e-04,  3.24033826e-03, -1.07977111e-04,\n",
              "         3.21687638e-05, -5.11793311e-03,  6.99971433e-02,\n",
              "         1.01703011e-01],\n",
              "       [-2.28896987e-06,  2.93594798e-04, -1.60261882e-03,\n",
              "         1.86216705e-03, -2.49271692e-03, -3.35125025e-03,\n",
              "         4.57244928e-03, -2.29231899e-03, -1.62135351e-02,\n",
              "         1.10420994e-01],\n",
              "       [ 7.48214204e-03,  6.27157491e-03,  2.14684426e-02,\n",
              "         1.02171538e-01,  3.25931952e+01,  9.40721154e-03,\n",
              "         7.08409626e+01,  1.43888554e-03, -2.98152672e-02,\n",
              "         7.85165880e-03],\n",
              "       [ 5.38770536e-04,  1.16120862e-02, -8.69569980e-02,\n",
              "        -2.82565988e-02,  1.22509368e+00,  4.84317338e-01,\n",
              "         4.77685967e-01, -5.82487743e-05,  3.02085182e-01,\n",
              "         1.17942737e+00],\n",
              "       [-8.81923402e-07, -1.24715991e-04, -2.65001259e-04,\n",
              "         5.93223039e-04,  4.50975503e-04, -9.03667045e-04,\n",
              "         6.23512441e-03, -1.41296486e-03,  4.95418927e-04,\n",
              "        -1.48109563e-02],\n",
              "       [-3.50268363e-07,  1.38729884e-04, -1.06916520e-04,\n",
              "         2.99990829e-05, -1.21919100e-04, -3.91154438e-05,\n",
              "         1.44498059e-04, -1.85138986e-04,  2.51560682e-03,\n",
              "        -2.57022769e-03],\n",
              "       [-1.10055856e-06,  1.43237526e-04, -1.31331858e-03,\n",
              "         5.42782122e-04,  1.27545985e-04,  1.66104663e-04,\n",
              "         2.04298317e-03,  9.41583951e-03,  2.80436827e-02,\n",
              "         6.70177212e-03],\n",
              "       [ 9.53747527e-06,  1.70532626e-04,  4.00766819e-03,\n",
              "         2.32846115e-04,  7.74687590e-03, -5.76611271e-03,\n",
              "        -2.42664057e-03,  7.20886515e-04, -1.46007751e-02,\n",
              "         1.14024071e-01],\n",
              "       [-3.10337511e-06, -2.19546168e-04, -2.09913064e-03,\n",
              "        -7.88407215e-04,  6.96156294e-03, -6.22284625e-04,\n",
              "         2.69101515e-03, -1.02871525e-03,  5.52342515e-02,\n",
              "         4.92372984e-02],\n",
              "       [ 1.64194458e-06,  3.07398866e-05, -1.15370990e-04,\n",
              "         1.84386637e-02,  3.70002222e-02,  8.05141328e+01,\n",
              "        -2.79028778e-02, -3.11082586e-01, -4.47932808e-03,\n",
              "        -1.14498606e-02],\n",
              "       [-1.90521013e-07,  4.71180368e-05, -4.82943225e-05,\n",
              "         3.28813079e-05, -1.19499016e-04,  1.49497767e-04,\n",
              "         2.85128504e-05, -1.47972447e-04,  2.26903292e-03,\n",
              "         1.51403530e-03],\n",
              "       [ 1.30047089e-08,  8.86925784e-06, -1.65509788e-05,\n",
              "        -1.48347258e-05,  7.73402211e-05, -1.68767662e-04,\n",
              "         2.06852283e-04, -8.50029521e-04,  7.63510476e-04,\n",
              "        -4.25866083e-03],\n",
              "       [ 2.51614464e-07,  2.49905742e-05, -1.11276058e-04,\n",
              "        -6.30396365e-05,  2.36039867e-04,  1.93112555e-03,\n",
              "        -2.60686874e-04,  5.61676699e-04,  1.12690598e-03,\n",
              "         4.98354502e-03],\n",
              "       [-5.98823506e-06, -6.81814991e-03,  1.63074439e-02,\n",
              "         2.30999609e-02,  2.71527845e-01, -4.37233586e-02,\n",
              "         1.12950217e+00, -4.89624868e-02,  9.90765956e-02,\n",
              "        -1.79805761e+00],\n",
              "       [ 1.80630556e-04,  6.63783550e-04, -6.96824936e-04,\n",
              "         1.49832323e-04,  3.85125401e-03, -6.18301164e-04,\n",
              "         4.63220254e-03, -2.57348436e-02,  4.11209494e-02,\n",
              "        -1.38455366e-02],\n",
              "       [ 1.84260558e-06, -1.95938494e-03,  8.59272775e-04,\n",
              "         3.13505213e-04,  7.75558957e-04, -3.01530854e-03,\n",
              "         8.94108575e-03,  4.74011918e-03,  3.59114676e-02,\n",
              "         2.43905239e-02],\n",
              "       [-2.36486590e-07, -6.45683992e-04,  1.07057578e-03,\n",
              "        -3.34148384e-04, -2.41834081e-03,  2.86465937e-03,\n",
              "         5.66288744e-04,  4.27984438e-03, -6.26380721e-03,\n",
              "        -1.11867344e-01]])"
            ]
          },
          "metadata": {},
          "execution_count": 95
        }
      ]
    },
    {
      "cell_type": "code",
      "metadata": {
        "colab": {
          "base_uri": "https://localhost:8080/"
        },
        "id": "ermtbPiexvCh",
        "outputId": "f5d2f560-1d87-4e22-9fdd-b30fa3b39af2"
      },
      "source": [
        "correlation_matrix=np.corrcoef(decomposed_matrix)\n",
        "correlation_matrix.shape"
      ],
      "execution_count": 96,
      "outputs": [
        {
          "output_type": "execute_result",
          "data": {
            "text/plain": [
              "(76, 76)"
            ]
          },
          "metadata": {},
          "execution_count": 96
        }
      ]
    },
    {
      "cell_type": "code",
      "metadata": {
        "colab": {
          "base_uri": "https://localhost:8080/",
          "height": 35
        },
        "id": "c-m_Ov5Sx3Q3",
        "outputId": "b2787f1e-719d-43b9-e5db-fbded782bf76"
      },
      "source": [
        "X.index[75]"
      ],
      "execution_count": 97,
      "outputs": [
        {
          "output_type": "execute_result",
          "data": {
            "application/vnd.google.colaboratory.intrinsic+json": {
              "type": "string"
            },
            "text/plain": [
              "'B00000K135'"
            ]
          },
          "metadata": {},
          "execution_count": 97
        }
      ]
    },
    {
      "cell_type": "code",
      "metadata": {
        "colab": {
          "base_uri": "https://localhost:8080/"
        },
        "id": "KaWYL5aHx6CC",
        "outputId": "15c6963a-f247-4125-d9ee-e1d5eed4d6ab"
      },
      "source": [
        "i=X.index[75]\n",
        "product_names=list(X.index)\n",
        "product_ID=product_names.index(i)\n",
        "product_ID"
      ],
      "execution_count": 98,
      "outputs": [
        {
          "output_type": "execute_result",
          "data": {
            "text/plain": [
              "75"
            ]
          },
          "metadata": {},
          "execution_count": 98
        }
      ]
    },
    {
      "cell_type": "code",
      "metadata": {
        "colab": {
          "base_uri": "https://localhost:8080/"
        },
        "id": "ucLO_z6QyAm2",
        "outputId": "2f94a1b1-3db0-4b20-a264-322530f740d5"
      },
      "source": [
        "correlation_product_ID=correlation_matrix[product_ID]\n",
        "correlation_product_ID.shape"
      ],
      "execution_count": 99,
      "outputs": [
        {
          "output_type": "execute_result",
          "data": {
            "text/plain": [
              "(76,)"
            ]
          },
          "metadata": {},
          "execution_count": 99
        }
      ]
    },
    {
      "cell_type": "code",
      "metadata": {
        "colab": {
          "base_uri": "https://localhost:8080/"
        },
        "id": "MeiPxCvjyOoc",
        "outputId": "de9d21d5-60f0-4ec6-a68c-20e0670b8eb7"
      },
      "source": [
        "correlation_product_ID\n"
      ],
      "execution_count": 100,
      "outputs": [
        {
          "output_type": "execute_result",
          "data": {
            "text/plain": [
              "array([ 0.11211224,  0.0442318 ,  0.0260305 ,  0.29672769, -0.74018825,\n",
              "        0.08275468,  0.13997134,  0.1143795 , -0.17216853,  0.5341732 ,\n",
              "        0.85175519,  0.74520727, -0.19333946, -0.83654255,  0.99313785,\n",
              "       -0.64759738, -0.88470324,  0.8724205 , -0.69911117, -0.99592509,\n",
              "        0.75462207,  0.45110511, -0.89746715,  0.57100816,  0.15649794,\n",
              "       -0.74950832,  0.10540457, -0.84798167,  0.90180948,  0.15857709,\n",
              "       -0.26646429, -0.35632457, -0.61328927,  0.8924269 ,  0.83194334,\n",
              "        0.80173582,  0.91460911,  0.93521344, -0.01748394, -0.89786315,\n",
              "        0.08159591, -0.51449438,  0.95860597,  0.13122719,  0.19728425,\n",
              "       -0.06465441,  0.04022892,  0.52683426,  0.30908673, -0.87188496,\n",
              "       -0.76804092, -0.9538345 , -0.93934629,  0.30868991, -0.8648245 ,\n",
              "        0.85795043,  0.93241851,  0.16949154, -0.97913241, -0.83711273,\n",
              "       -0.97757287,  0.14986471, -0.60457477,  0.90952651,  0.69997491,\n",
              "       -0.12938129, -0.97853062, -0.66259814,  0.13961367, -0.53805053,\n",
              "        0.93694634, -0.90273642,  0.86113621,  0.23736159, -0.51893484,\n",
              "        1.        ])"
            ]
          },
          "metadata": {},
          "execution_count": 100
        }
      ]
    },
    {
      "cell_type": "code",
      "metadata": {
        "colab": {
          "base_uri": "https://localhost:8080/"
        },
        "id": "PR4T-mIdy-Fn",
        "outputId": "7de12729-f57c-42e1-a06b-4bb1c2725c14"
      },
      "source": [
        "Recommend=list(X.index[correlation_product_ID>0.65])\n",
        "\n",
        "Recommend.remove(i)\n",
        "Recommend[0:24]"
      ],
      "execution_count": 101,
      "outputs": [
        {
          "output_type": "execute_result",
          "data": {
            "text/plain": [
              "['3744295508',\n",
              " '6301977173',\n",
              " '9573212919',\n",
              " '9888002198',\n",
              " '9984984354',\n",
              " 'B00000J05A',\n",
              " 'B00000J0D8',\n",
              " 'B00000J1EJ',\n",
              " 'B00000J1EP',\n",
              " 'B00000J1EQ',\n",
              " 'B00000J1F3',\n",
              " 'B00000J1TX',\n",
              " 'B00000JBAT',\n",
              " 'B00000JBHP',\n",
              " 'B00000JDHV',\n",
              " 'B00000JFE3',\n",
              " 'B00000JMUG',\n",
              " 'B00000JSGF']"
            ]
          },
          "metadata": {},
          "execution_count": 101
        }
      ]
    },
    {
      "cell_type": "code",
      "metadata": {
        "colab": {
          "base_uri": "https://localhost:8080/"
        },
        "id": "c_E1NgP6zIfI",
        "outputId": "0c8110e9-edd0-4dba-e96c-6f19e2b2d5b7"
      },
      "source": [
        "Recommend"
      ],
      "execution_count": 102,
      "outputs": [
        {
          "output_type": "execute_result",
          "data": {
            "text/plain": [
              "['3744295508',\n",
              " '6301977173',\n",
              " '9573212919',\n",
              " '9888002198',\n",
              " '9984984354',\n",
              " 'B00000J05A',\n",
              " 'B00000J0D8',\n",
              " 'B00000J1EJ',\n",
              " 'B00000J1EP',\n",
              " 'B00000J1EQ',\n",
              " 'B00000J1F3',\n",
              " 'B00000J1TX',\n",
              " 'B00000JBAT',\n",
              " 'B00000JBHP',\n",
              " 'B00000JDHV',\n",
              " 'B00000JFE3',\n",
              " 'B00000JMUG',\n",
              " 'B00000JSGF']"
            ]
          },
          "metadata": {},
          "execution_count": 102
        }
      ]
    },
    {
      "cell_type": "code",
      "metadata": {
        "colab": {
          "base_uri": "https://localhost:8080/"
        },
        "id": "6osViOQ-zQWm",
        "outputId": "a4039405-be96-44ad-e171-a4472429c6c3"
      },
      "source": [
        "len(Recommend)"
      ],
      "execution_count": 103,
      "outputs": [
        {
          "output_type": "execute_result",
          "data": {
            "text/plain": [
              "18"
            ]
          },
          "metadata": {},
          "execution_count": 103
        }
      ]
    },
    {
      "cell_type": "code",
      "metadata": {
        "id": "GWCW2TfB0Taj"
      },
      "source": [
        ""
      ],
      "execution_count": null,
      "outputs": []
    }
  ]
}