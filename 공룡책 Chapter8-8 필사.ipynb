{
 "cells": [
  {
   "cell_type": "code",
   "execution_count": 16,
   "metadata": {},
   "outputs": [],
   "source": [
    "import numpy as np\n",
    "\n",
    "def cos_similarity(v1,v2):\n",
    "    dot_product=np.dot(v1,v2)\n",
    "    l2_norm=(np.sqrt(sum(np.square(v1)))*np.sqrt(sum(np.square(v2))))\n",
    "    similarity=dot_product/l2_norm\n",
    "    \n",
    "    return similarity"
   ]
  },
  {
   "cell_type": "code",
   "execution_count": 6,
   "metadata": {},
   "outputs": [
    {
     "name": "stdout",
     "output_type": "stream",
     "text": [
      "[1 4 9]\n"
     ]
    }
   ],
   "source": [
    "v=np.array([1,2,3])\n",
    "print(np.square(v))"
   ]
  },
  {
   "cell_type": "code",
   "execution_count": 7,
   "metadata": {},
   "outputs": [
    {
     "name": "stdout",
     "output_type": "stream",
     "text": [
      "(3, 18)\n"
     ]
    }
   ],
   "source": [
    "from sklearn.feature_extraction.text import TfidfVectorizer\n",
    "\n",
    "doc_list=['if you take the blue pill, the story ends','if you take the red pill, you stay in Wonderland',\n",
    "         'if you take the red pill, I show you how deep the rabbit hole goes']\n",
    "\n",
    "tfidf_vect_simple=TfidfVectorizer()\n",
    "feature_vect_simple=tfidf_vect_simple.fit_transform(doc_list)\n",
    "print(feature_vect_simple.shape)"
   ]
  },
  {
   "cell_type": "code",
   "execution_count": 9,
   "metadata": {},
   "outputs": [],
   "source": [
    "feature_vect_dense=feature_vect_simple.todense()"
   ]
  },
  {
   "cell_type": "code",
   "execution_count": 12,
   "metadata": {},
   "outputs": [
    {
     "name": "stdout",
     "output_type": "stream",
     "text": [
      "  (0, 2)\t0.41556360057939173\n",
      "  (0, 13)\t0.41556360057939173\n",
      "  (0, 8)\t0.24543855687841593\n",
      "  (0, 0)\t0.41556360057939173\n",
      "  (0, 15)\t0.49087711375683185\n",
      "  (0, 14)\t0.24543855687841593\n",
      "  (0, 17)\t0.24543855687841593\n",
      "  (0, 6)\t0.24543855687841593\n",
      "  (1, 16)\t0.39624495215024286\n",
      "  (1, 7)\t0.39624495215024286\n",
      "  (1, 12)\t0.39624495215024286\n",
      "  (1, 10)\t0.3013544995034864\n",
      "  (1, 8)\t0.2340286519091622\n",
      "  (1, 15)\t0.2340286519091622\n",
      "  (1, 14)\t0.2340286519091622\n",
      "  (1, 17)\t0.4680573038183244\n",
      "  (1, 6)\t0.2340286519091622\n",
      "  (2, 3)\t0.3098560092999078\n",
      "  (2, 4)\t0.3098560092999078\n",
      "  (2, 9)\t0.3098560092999078\n",
      "  (2, 1)\t0.3098560092999078\n",
      "  (2, 5)\t0.3098560092999078\n",
      "  (2, 11)\t0.3098560092999078\n",
      "  (2, 10)\t0.23565348175165166\n",
      "  (2, 8)\t0.1830059506093466\n",
      "  (2, 15)\t0.3660119012186932\n",
      "  (2, 14)\t0.1830059506093466\n",
      "  (2, 17)\t0.3660119012186932\n",
      "  (2, 6)\t0.1830059506093466\n"
     ]
    }
   ],
   "source": [
    "# 희소행렬\n",
    "print(feature_vect_simple)"
   ]
  },
  {
   "cell_type": "code",
   "execution_count": 14,
   "metadata": {
    "scrolled": true
   },
   "outputs": [
    {
     "name": "stdout",
     "output_type": "stream",
     "text": [
      "[[0.4155636  0.         0.4155636  0.         0.         0.\n",
      "  0.24543856 0.         0.24543856 0.         0.         0.\n",
      "  0.         0.4155636  0.24543856 0.49087711 0.         0.24543856]\n",
      " [0.         0.         0.         0.         0.         0.\n",
      "  0.23402865 0.39624495 0.23402865 0.         0.3013545  0.\n",
      "  0.39624495 0.         0.23402865 0.23402865 0.39624495 0.4680573 ]\n",
      " [0.         0.30985601 0.         0.30985601 0.30985601 0.30985601\n",
      "  0.18300595 0.         0.18300595 0.30985601 0.23565348 0.30985601\n",
      "  0.         0.         0.18300595 0.3660119  0.         0.3660119 ]]\n"
     ]
    }
   ],
   "source": [
    "#밀집행렬\n",
    "print(feature_vect_dense)"
   ]
  },
  {
   "cell_type": "code",
   "execution_count": 18,
   "metadata": {},
   "outputs": [
    {
     "name": "stdout",
     "output_type": "stream",
     "text": [
      "문장1, 문장2 Cosine 유사도: 0.402\n",
      "문장2, 문장3 Cosine 유사도: 0.456\n",
      "문장3, 문장1 Cosine 유사도: 0.404\n"
     ]
    }
   ],
   "source": [
    "vect1=np.array(feature_vect_dense[0]).reshape(-1,)\n",
    "vect2=np.array(feature_vect_dense[1]).reshape(-1,)\n",
    "vect3=np.array(feature_vect_dense[2]).reshape(-1,)\n",
    "similarity_simple=cos_similarity(vect1,vect2)\n",
    "print('문장1, 문장2 Cosine 유사도: {0:.3f}'.format(similarity_simple))\n",
    "similarity_simple=cos_similarity(vect2,vect3)\n",
    "print('문장2, 문장3 Cosine 유사도: {0:.3f}'.format(similarity_simple))\n",
    "similarity_simple=cos_similarity(vect3,vect1)\n",
    "print('문장3, 문장1 Cosine 유사도: {0:.3f}'.format(similarity_simple))"
   ]
  },
  {
   "cell_type": "markdown",
   "metadata": {},
   "source": [
    "API이용"
   ]
  },
  {
   "cell_type": "code",
   "execution_count": 20,
   "metadata": {},
   "outputs": [
    {
     "name": "stdout",
     "output_type": "stream",
     "text": [
      "[[1.         0.40207758 0.40425045]]\n"
     ]
    }
   ],
   "source": [
    "from sklearn.metrics.pairwise import cosine_similarity\n",
    "\n",
    "similarity_simple_pair=cosine_similarity(feature_vect_simple[0],feature_vect_simple)\n",
    "print(similarity_simple_pair)"
   ]
  },
  {
   "cell_type": "code",
   "execution_count": 21,
   "metadata": {},
   "outputs": [
    {
     "name": "stdout",
     "output_type": "stream",
     "text": [
      "[[1.         0.40207758 0.40425045]\n",
      " [0.40207758 1.         0.45647296]\n",
      " [0.40425045 0.45647296 1.        ]]\n",
      "shape: (3, 3)\n"
     ]
    }
   ],
   "source": [
    "similarity_simple_pair=cosine_similarity(feature_vect_simple,feature_vect_simple)\n",
    "print(similarity_simple_pair)\n",
    "print('shape:',similarity_simple_pair.shape)"
   ]
  },
  {
   "cell_type": "code",
   "execution_count": 23,
   "metadata": {},
   "outputs": [],
   "source": [
    "import pandas as pd\n",
    "import glob,os\n",
    "from sklearn.feature_extraction.text import TfidfVectorizer\n",
    "from sklearn.cluster import KMeans\n",
    "\n",
    "path=r'C:\\Users\\jeehy\\Desktop\\ESAA\\ESAA_2021_2학기세션\\hw\\OpinosisDataset1.0\\topics'\n",
    "all_files=glob.glob(os.path.join(path,\"*.data\"))\n",
    "filename_list=[]\n",
    "opinion_text=[]"
   ]
  },
  {
   "cell_type": "code",
   "execution_count": 24,
   "metadata": {},
   "outputs": [
    {
     "data": {
      "text/html": [
       "<div>\n",
       "<style scoped>\n",
       "    .dataframe tbody tr th:only-of-type {\n",
       "        vertical-align: middle;\n",
       "    }\n",
       "\n",
       "    .dataframe tbody tr th {\n",
       "        vertical-align: top;\n",
       "    }\n",
       "\n",
       "    .dataframe thead th {\n",
       "        text-align: right;\n",
       "    }\n",
       "</style>\n",
       "<table border=\"1\" class=\"dataframe\">\n",
       "  <thead>\n",
       "    <tr style=\"text-align: right;\">\n",
       "      <th></th>\n",
       "      <th>filename</th>\n",
       "      <th>opinion_text</th>\n",
       "    </tr>\n",
       "  </thead>\n",
       "  <tbody>\n",
       "    <tr>\n",
       "      <th>0</th>\n",
       "      <td>accuracy_garmin_nuvi_255W_gps</td>\n",
       "      <td>...</td>\n",
       "    </tr>\n",
       "    <tr>\n",
       "      <th>1</th>\n",
       "      <td>bathroom_bestwestern_hotel_sfo</td>\n",
       "      <td>...</td>\n",
       "    </tr>\n",
       "    <tr>\n",
       "      <th>2</th>\n",
       "      <td>battery-life_amazon_kindle</td>\n",
       "      <td>...</td>\n",
       "    </tr>\n",
       "    <tr>\n",
       "      <th>3</th>\n",
       "      <td>battery-life_ipod_nano_8gb</td>\n",
       "      <td>...</td>\n",
       "    </tr>\n",
       "    <tr>\n",
       "      <th>4</th>\n",
       "      <td>battery-life_netbook_1005ha</td>\n",
       "      <td>...</td>\n",
       "    </tr>\n",
       "  </tbody>\n",
       "</table>\n",
       "</div>"
      ],
      "text/plain": [
       "                         filename  \\\n",
       "0   accuracy_garmin_nuvi_255W_gps   \n",
       "1  bathroom_bestwestern_hotel_sfo   \n",
       "2      battery-life_amazon_kindle   \n",
       "3      battery-life_ipod_nano_8gb   \n",
       "4     battery-life_netbook_1005ha   \n",
       "\n",
       "                                        opinion_text  \n",
       "0                                                ...  \n",
       "1                                                ...  \n",
       "2                                                ...  \n",
       "3                                                ...  \n",
       "4                                                ...  "
      ]
     },
     "execution_count": 24,
     "metadata": {},
     "output_type": "execute_result"
    }
   ],
   "source": [
    "for file_ in all_files:\n",
    "    \n",
    "    df=pd.read_table(file_,index_col=None,header=0,encoding='latin1')\n",
    "    \n",
    "    filename_=file_.split('\\\\')[-1]\n",
    "    filename=filename_.split('.')[0]\n",
    "    \n",
    "    filename_list.append(filename)\n",
    "    opinion_text.append(df.to_string())\n",
    "    \n",
    "document_df=pd.DataFrame({'filename':filename_list,'opinion_text':opinion_text})\n",
    "document_df.head()\n",
    "    "
   ]
  },
  {
   "cell_type": "code",
   "execution_count": 25,
   "metadata": {},
   "outputs": [
    {
     "ename": "NameError",
     "evalue": "name 'LemNormalize' is not defined",
     "output_type": "error",
     "traceback": [
      "\u001b[1;31m---------------------------------------------------------------------------\u001b[0m",
      "\u001b[1;31mNameError\u001b[0m                                 Traceback (most recent call last)",
      "\u001b[1;32m<ipython-input-25-57dc4922a7e9>\u001b[0m in \u001b[0;36m<module>\u001b[1;34m\u001b[0m\n\u001b[1;32m----> 1\u001b[1;33m \u001b[0mtfidf_vect\u001b[0m\u001b[1;33m=\u001b[0m\u001b[0mTfidfVectorizer\u001b[0m\u001b[1;33m(\u001b[0m\u001b[0mtokenizer\u001b[0m\u001b[1;33m=\u001b[0m\u001b[0mLemNormalize\u001b[0m\u001b[1;33m,\u001b[0m\u001b[0mstop_words\u001b[0m\u001b[1;33m=\u001b[0m\u001b[1;34m'english'\u001b[0m\u001b[1;33m,\u001b[0m\u001b[0mngram_range\u001b[0m\u001b[1;33m=\u001b[0m\u001b[1;33m(\u001b[0m\u001b[1;36m1\u001b[0m\u001b[1;33m,\u001b[0m\u001b[1;36m2\u001b[0m\u001b[1;33m)\u001b[0m\u001b[1;33m,\u001b[0m\u001b[0mmin_df\u001b[0m\u001b[1;33m=\u001b[0m\u001b[1;36m0.05\u001b[0m\u001b[1;33m,\u001b[0m\u001b[0mmax_df\u001b[0m\u001b[1;33m=\u001b[0m\u001b[1;36m0.85\u001b[0m\u001b[1;33m)\u001b[0m\u001b[1;33m\u001b[0m\u001b[1;33m\u001b[0m\u001b[0m\n\u001b[0m\u001b[0;32m      2\u001b[0m \u001b[0mfeature_vect\u001b[0m\u001b[1;33m=\u001b[0m\u001b[0mtfidf_vect\u001b[0m\u001b[1;33m.\u001b[0m\u001b[0mfit_transform\u001b[0m\u001b[1;33m(\u001b[0m\u001b[0mdocument_df\u001b[0m\u001b[1;33m[\u001b[0m\u001b[1;34m'opinion_text'\u001b[0m\u001b[1;33m]\u001b[0m\u001b[1;33m)\u001b[0m\u001b[1;33m\u001b[0m\u001b[1;33m\u001b[0m\u001b[0m\n",
      "\u001b[1;31mNameError\u001b[0m: name 'LemNormalize' is not defined"
     ]
    }
   ],
   "source": [
    "tfidf_vect=TfidfVectorizer(tokenizer=LemNormalize,stop_words='english',ngram_range=(1,2),min_df=0.05,max_df=0.85)\n",
    "feature_vect=tfidf_vect.fit_transform(document_df['opinion_text'])"
   ]
  },
  {
   "cell_type": "code",
   "execution_count": 26,
   "metadata": {},
   "outputs": [
    {
     "data": {
      "text/html": [
       "<div>\n",
       "<style scoped>\n",
       "    .dataframe tbody tr th:only-of-type {\n",
       "        vertical-align: middle;\n",
       "    }\n",
       "\n",
       "    .dataframe tbody tr th {\n",
       "        vertical-align: top;\n",
       "    }\n",
       "\n",
       "    .dataframe thead th {\n",
       "        text-align: right;\n",
       "    }\n",
       "</style>\n",
       "<table border=\"1\" class=\"dataframe\">\n",
       "  <thead>\n",
       "    <tr style=\"text-align: right;\">\n",
       "      <th></th>\n",
       "      <th>The voice prompts and maps are wonderful especially when driving after dark .</th>\n",
       "    </tr>\n",
       "  </thead>\n",
       "  <tbody>\n",
       "    <tr>\n",
       "      <th>0</th>\n",
       "      <td>I also thought the the voice prompts of the 75...</td>\n",
       "    </tr>\n",
       "    <tr>\n",
       "      <th>1</th>\n",
       "      <td>The 750 sounds more like a real female voice,...</td>\n",
       "    </tr>\n",
       "    <tr>\n",
       "      <th>2</th>\n",
       "      <td>I didn't have the problems with the sounds of...</td>\n",
       "    </tr>\n",
       "    <tr>\n",
       "      <th>3</th>\n",
       "      <td>Some of the voices are annoying .</td>\n",
       "    </tr>\n",
       "    <tr>\n",
       "      <th>4</th>\n",
       "      <td>My understanding is that Garmin really compre...</td>\n",
       "    </tr>\n",
       "  </tbody>\n",
       "</table>\n",
       "</div>"
      ],
      "text/plain": [
       "    The voice prompts and maps are wonderful especially when driving after dark .\n",
       "0  I also thought the the voice prompts of the 75...                             \n",
       "1   The 750 sounds more like a real female voice,...                             \n",
       "2   I didn't have the problems with the sounds of...                             \n",
       "3                  Some of the voices are annoying .                             \n",
       "4   My understanding is that Garmin really compre...                             "
      ]
     },
     "execution_count": 26,
     "metadata": {},
     "output_type": "execute_result"
    }
   ],
   "source": [
    "df.head()"
   ]
  },
  {
   "cell_type": "code",
   "execution_count": null,
   "metadata": {},
   "outputs": [],
   "source": []
  }
 ],
 "metadata": {
  "kernelspec": {
   "display_name": "Python 3",
   "language": "python",
   "name": "python3"
  },
  "language_info": {
   "codemirror_mode": {
    "name": "ipython",
    "version": 3
   },
   "file_extension": ".py",
   "mimetype": "text/x-python",
   "name": "python",
   "nbconvert_exporter": "python",
   "pygments_lexer": "ipython3",
   "version": "3.7.9"
  },
  "toc": {
   "base_numbering": 1,
   "nav_menu": {},
   "number_sections": true,
   "sideBar": true,
   "skip_h1_title": false,
   "title_cell": "Table of Contents",
   "title_sidebar": "Contents",
   "toc_cell": false,
   "toc_position": {},
   "toc_section_display": true,
   "toc_window_display": false
  }
 },
 "nbformat": 4,
 "nbformat_minor": 4
}
