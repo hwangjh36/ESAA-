{
 "cells": [
  {
   "cell_type": "code",
   "execution_count": 5,
   "metadata": {},
   "outputs": [],
   "source": [
    "import numpy as np\n",
    "\n",
    "R=np.array([[4,np.NaN,np.NaN,2,np.NaN],\n",
    "            [np.NaN,5,np.NaN,3,1],\n",
    "            [np.NaN,np.NaN,3,4,4],\n",
    "            [5,2,1,2,np.NaN]])\n",
    "\n",
    "num_users,num_items=R.shape\n",
    "K=3\n",
    "\n",
    "np.random.seed(1)\n",
    "P=np.random.normal(scale=1./K,size=(num_users,K))\n",
    "Q=np.random.normal(scale=1./K,size=(num_items,K))"
   ]
  },
  {
   "cell_type": "code",
   "execution_count": 6,
   "metadata": {},
   "outputs": [],
   "source": [
    "from sklearn.metrics import mean_squared_error\n",
    "\n",
    "def get_rmse(R,P,Q,non_zeros):\n",
    "    error=0\n",
    "    full_pred_matrix=np.dot(P,Q.T)\n",
    "    \n",
    "    x_non_zero_ind=[non_zero[0] for non_zero in non_zeros]\n",
    "    y_non_zero_ind=[non_zero[1] for non_zero in non_zeros]\n",
    "    R_non_zeros=R[x_non_zero_ind,y_non_zero_ind]\n",
    "    full_pred_matrix_non_zeros=full_pred_matrix[x_non_zero_ind,y_non_zero_ind]\n",
    "    mse=mean_squared_error(R_non_zeros,full_pred_matrix_non_zeros)\n",
    "    rmse=np.sqrt(mse)\n",
    "    \n",
    "    return rmse\n"
   ]
  },
  {
   "cell_type": "code",
   "execution_count": 8,
   "metadata": {},
   "outputs": [
    {
     "name": "stdout",
     "output_type": "stream",
     "text": [
      "### interation step: 0 rmse: 3.2388050277987723\n",
      "### interation step: 50 rmse: 0.4876723101369647\n",
      "### interation step: 100 rmse: 0.15643403848192458\n",
      "### interation step: 150 rmse: 0.07455141311978064\n",
      "### interation step: 200 rmse: 0.043252267985793146\n",
      "### interation step: 250 rmse: 0.029248328780879226\n",
      "### interation step: 300 rmse: 0.022621116143829507\n",
      "### interation step: 350 rmse: 0.019493636196525232\n",
      "### interation step: 400 rmse: 0.018022719092132773\n",
      "### interation step: 450 rmse: 0.01731968595344283\n",
      "### interation step: 500 rmse: 0.016973657887570985\n",
      "### interation step: 550 rmse: 0.01679680459589558\n",
      "### interation step: 600 rmse: 0.016701322901884634\n",
      "### interation step: 650 rmse: 0.016644736912476574\n",
      "### interation step: 700 rmse: 0.016605910068210012\n",
      "### interation step: 750 rmse: 0.01657420047570488\n",
      "### interation step: 800 rmse: 0.01654431582921612\n",
      "### interation step: 850 rmse: 0.016513751774735037\n",
      "### interation step: 900 rmse: 0.01648146573819507\n",
      "### interation step: 950 rmse: 0.01644717168347911\n"
     ]
    }
   ],
   "source": [
    "non_zeros=[ (i,j,R[i,j]) for i in range(num_users) for j in range(num_items) if R[i,j]>0]\n",
    "\n",
    "steps=1000\n",
    "learning_rate=0.01\n",
    "r_lambda=0.01\n",
    "\n",
    "for step in range(steps):\n",
    "    for i,j,r in non_zeros:\n",
    "        \n",
    "        eij=r-np.dot(P[i,:],Q[j,:].T)\n",
    "        \n",
    "        P[i,:]=P[i,:]+learning_rate*(eij*Q[j,:]-r_lambda*P[i,:])\n",
    "        Q[j,:]=Q[j,:]+learning_rate*(eij*P[i,:]-r_lambda*Q[j,:])\n",
    "        \n",
    "    rmse=get_rmse(R,P,Q,non_zeros)\n",
    "    if(step%50)==0:\n",
    "        print('### interation step:',step,\"rmse:\",rmse)"
   ]
  },
  {
   "cell_type": "code",
   "execution_count": 9,
   "metadata": {},
   "outputs": [
    {
     "name": "stdout",
     "output_type": "stream",
     "text": [
      "예측 행렬:\n",
      " [[3.991 0.897 1.306 2.002 1.663]\n",
      " [6.696 4.978 0.979 2.981 1.003]\n",
      " [6.677 0.391 2.987 3.977 3.986]\n",
      " [4.968 2.005 1.006 2.017 1.14 ]]\n"
     ]
    }
   ],
   "source": [
    "pred_matrix=np.dot(P,Q.T)\n",
    "print('예측 행렬:\\n',np.round(pred_matrix,3))"
   ]
  },
  {
   "cell_type": "code",
   "execution_count": null,
   "metadata": {},
   "outputs": [],
   "source": []
  }
 ],
 "metadata": {
  "kernelspec": {
   "display_name": "Python 3",
   "language": "python",
   "name": "python3"
  },
  "language_info": {
   "codemirror_mode": {
    "name": "ipython",
    "version": 3
   },
   "file_extension": ".py",
   "mimetype": "text/x-python",
   "name": "python",
   "nbconvert_exporter": "python",
   "pygments_lexer": "ipython3",
   "version": "3.7.9"
  },
  "toc": {
   "base_numbering": 1,
   "nav_menu": {},
   "number_sections": true,
   "sideBar": true,
   "skip_h1_title": false,
   "title_cell": "Table of Contents",
   "title_sidebar": "Contents",
   "toc_cell": false,
   "toc_position": {},
   "toc_section_display": true,
   "toc_window_display": false
  }
 },
 "nbformat": 4,
 "nbformat_minor": 4
}
